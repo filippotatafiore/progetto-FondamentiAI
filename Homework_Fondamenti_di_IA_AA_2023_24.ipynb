{
  "cells": [
    {
      "cell_type": "markdown",
      "source": [
        "# Homework specifications\n"
      ],
      "metadata": {
        "id": "Em6OZui34wg-"
      }
    },
    {
      "cell_type": "markdown",
      "source": [
        "Building upon the previous tasks of data preparation, cleaning, and exploratory analysis, you are now required to further your analysis by developing and testing different machine learning algorithms. These algorithms are aimed at predicting specific outcomes based on the dataset. You must implement these algorithms from scratch and may use machine learning frameworks only for verifying the quality of your results.\n",
        "\n",
        "Algorithms to Implement:\n",
        "* Linear Regression: To predict the Weight of individuals based on the available attributes.\n",
        "* Decision Trees for Binary Classification: To classify individuals into two categories of obesity levels (NObesity attribute) based on the available attributes.\n",
        "* Logistic Regression: To classify individuals into two categories of obesity levels (NObesity attribute).\n",
        "* K-Nearest Neighbors (KNN): To classify individuals into two categories of obesity levels (NObesity attribute).\n",
        "* Neural Network: To perform regression in order to predict the Weight of individuals based on available attributes.\n",
        "\n",
        "The model should be flexible and allow for a variable number of layers and a variable number of neurons for each layer. These two are hyperparameters of the NN as well as the other \"more traditional\" hyperparameters.\n",
        "\n",
        "Data Preparation:\n",
        "* Categorical attributes defined as strings must be encoded before being used as input to the algorithms. You may choose an appropriate encoding method.\n",
        "* For regression problems, predict the attribute Weight.\n",
        "* For classification, predict the attribute NObesity. Binarize the NObesity attribute such that categories below and including \"Overweight\" are encoded as 0, and the rest are encoded as 1.\n",
        "\n",
        "Implementation Guidelines:\n",
        "* Your implementations must not use any external machine learning frameworks except for verifying the results. For example, you can use scikit-learn to double check your results but not to fit thye model.\n",
        "* External frameworks can be used to do everything except build the model. For instance, you can use Pandas to manage dataframes, or you can use scikit-learn to evaluate the performance of your algorithms.\n",
        "* For each algorithm, you must tune the hyperparameters. Demonstrate where and how you've performed hyperparameter tuning. While exhaustive search is not required, you should clearly indicate the process of hyperparameter tuning and how it can be extended to explore more options.\n",
        "* Ensure that your notebook runs from beginning to end without errors.\n",
        "\n",
        "Critical Analysis:\n",
        "* Conclude your notebook with a critical analysis section. This should include observations drawn from your experiments with the implemented algorithms. Discuss the performance, strengths, and weaknesses of each algorithm based on your results.\n",
        "\n",
        "Hyperparameter Tuning:\n",
        "* Clearly document the process of tuning hyperparameters for each algorithm. Discuss the impact of different hyperparameters on the algorithm's performance and how further tuning could potentially improve the results.\n",
        "\n",
        "Submission Requirements:\n",
        "* Your submission should include the Jupyter Notebook containing all codes for the algorithms, data preparation and cleaning, exploratory data analysis, hyperparameter tuning, and critical analysis.\n",
        "* The notebook must be well-organized, properly commented, and should run from start to finish without any errors.\n",
        "\n",
        "This assignment will challenge your understanding of machine learning concepts, your ability to implement algorithms from scratch, and your analytical skills in interpreting the results. It is an opportunity to demonstrate your proficiency in machine learning and your critical thinking abilities in analyzing and solving problems.\n",
        "\n",
        "Deadline for Submission: Before the end of the semester, which is May 31st 2024.\n",
        "\n",
        "This is the form to submit your homework: https://forms.gle/RF22sJF3PvLskHLk9\n",
        "\n",
        "Note that after you have submitted it you will not allowed to submit another one. Be careful, then!!!\n",
        "\n",
        "Please ensure that your submission is complete and adheres to all the specified requirements. Good luck!"
      ],
      "metadata": {
        "id": "VW84fK0h5pst"
      }
    },
    {
      "cell_type": "markdown",
      "source": [
        "# scaricare il dataset"
      ],
      "metadata": {
        "id": "qX278-2v5tUB"
      }
    },
    {
      "cell_type": "code",
      "execution_count": null,
      "metadata": {
        "id": "E1pF0okrM1I6"
      },
      "outputs": [],
      "source": [
        "import numpy as np # linear algebra\n",
        "import pandas as pd # data processing, CSV file I/O (e.g. pd.read_csv)\n",
        "\n",
        "url='https://drive.google.com/file/d/12dUeEO_rkButPD79pOteFoSSeuIBg5qt/view?usp=drive_link'\n",
        "file_id=url.split('/')[-2]\n",
        "dwn_url='https://drive.google.com/uc?id=' + file_id\n",
        "dataset = pd.read_csv(dwn_url)"
      ]
    },
    {
      "cell_type": "markdown",
      "metadata": {
        "id": "PN4MKJszM1I7"
      },
      "source": [
        "# About The Dataset\n",
        "The data consist of the estimation of obesity levels in people from the countries of Mexico, Peru and Colombia, with ages between 14 and 61 and diverse eating habits and physical condition , data was collected using a web platform with a survey where anonymous users answered each question, then the information was processed obtaining 17 attributes and 2111 records.\n",
        "The attributes related with eating habits are: Frequent consumption of high caloric food (**FAVC**), Frequency of consumption of vegetables (**FCVC**), Number of main meals (**NCP**), Consumption of food between meals (**CAEC**), Consumption of water daily (**CH20**), and Consumption of alcohol (**CALC**). The attributes related with the physical condition are: Calories consumption monitoring (**SCC**), Physical activity frequency (**FAF**), Time using technology devices (**TUE**), Transportation used (**MTRANS**)\n",
        "variables obtained :\n",
        "**Gender**, **Age**, **Height** and **Weight**.\n",
        "\n",
        "**NObesity** values are:\n",
        "\n",
        "* Underweight\n",
        "* Normal\n",
        "* Overweight\n",
        "* Obesity I\n",
        "* Obesity II\n",
        "* Obesity III"
      ]
    },
    {
      "cell_type": "code",
      "execution_count": null,
      "metadata": {
        "colab": {
          "base_uri": "https://localhost:8080/"
        },
        "id": "7vCgNeRzM1I8",
        "outputId": "276e7816-f8d2-4930-b38a-c6239cc99392"
      },
      "outputs": [
        {
          "data": {
            "application/vnd.google.colaboratory.intrinsic+json": {
              "summary": "{\n  \"name\": \"dataset\",\n  \"rows\": 2111,\n  \"fields\": [\n    {\n      \"column\": \"Gender\",\n      \"properties\": {\n        \"dtype\": \"category\",\n        \"num_unique_values\": 2,\n        \"samples\": [\n          \"Male\",\n          \"Female\"\n        ],\n        \"semantic_type\": \"\",\n        \"description\": \"\"\n      }\n    },\n    {\n      \"column\": \"Age\",\n      \"properties\": {\n        \"dtype\": \"number\",\n        \"std\": 6.345968273732234,\n        \"min\": 14.0,\n        \"max\": 61.0,\n        \"num_unique_values\": 1402,\n        \"samples\": [\n          25.526746,\n          26.740655\n        ],\n        \"semantic_type\": \"\",\n        \"description\": \"\"\n      }\n    },\n    {\n      \"column\": \"Height\",\n      \"properties\": {\n        \"dtype\": \"number\",\n        \"std\": 0.09330481986792007,\n        \"min\": 1.45,\n        \"max\": 1.98,\n        \"num_unique_values\": 1574,\n        \"samples\": [\n          1.760175,\n          1.688436\n        ],\n        \"semantic_type\": \"\",\n        \"description\": \"\"\n      }\n    },\n    {\n      \"column\": \"Weight\",\n      \"properties\": {\n        \"dtype\": \"number\",\n        \"std\": 26.1911717452047,\n        \"min\": 39.0,\n        \"max\": 173.0,\n        \"num_unique_values\": 1525,\n        \"samples\": [\n          120.702935,\n          64.4\n        ],\n        \"semantic_type\": \"\",\n        \"description\": \"\"\n      }\n    },\n    {\n      \"column\": \"family_history_with_overweight\",\n      \"properties\": {\n        \"dtype\": \"category\",\n        \"num_unique_values\": 2,\n        \"samples\": [\n          \"no\",\n          \"yes\"\n        ],\n        \"semantic_type\": \"\",\n        \"description\": \"\"\n      }\n    },\n    {\n      \"column\": \"FAVC\",\n      \"properties\": {\n        \"dtype\": \"category\",\n        \"num_unique_values\": 2,\n        \"samples\": [\n          \"yes\",\n          \"no\"\n        ],\n        \"semantic_type\": \"\",\n        \"description\": \"\"\n      }\n    },\n    {\n      \"column\": \"FCVC\",\n      \"properties\": {\n        \"dtype\": \"number\",\n        \"std\": 0.5339265785033002,\n        \"min\": 1.0,\n        \"max\": 3.0,\n        \"num_unique_values\": 810,\n        \"samples\": [\n          2.987148,\n          2.939727\n        ],\n        \"semantic_type\": \"\",\n        \"description\": \"\"\n      }\n    },\n    {\n      \"column\": \"NCP\",\n      \"properties\": {\n        \"dtype\": \"number\",\n        \"std\": 0.7780386488418612,\n        \"min\": 1.0,\n        \"max\": 4.0,\n        \"num_unique_values\": 635,\n        \"samples\": [\n          1.468948,\n          2.9948\n        ],\n        \"semantic_type\": \"\",\n        \"description\": \"\"\n      }\n    },\n    {\n      \"column\": \"CAEC\",\n      \"properties\": {\n        \"dtype\": \"category\",\n        \"num_unique_values\": 4,\n        \"samples\": [\n          \"Frequently\",\n          \"no\"\n        ],\n        \"semantic_type\": \"\",\n        \"description\": \"\"\n      }\n    },\n    {\n      \"column\": \"SMOKE\",\n      \"properties\": {\n        \"dtype\": \"category\",\n        \"num_unique_values\": 2,\n        \"samples\": [\n          \"yes\",\n          \"no\"\n        ],\n        \"semantic_type\": \"\",\n        \"description\": \"\"\n      }\n    },\n    {\n      \"column\": \"CH2O\",\n      \"properties\": {\n        \"dtype\": \"number\",\n        \"std\": 0.6129534517968722,\n        \"min\": 1.0,\n        \"max\": 3.0,\n        \"num_unique_values\": 1268,\n        \"samples\": [\n          2.395387,\n          1.983973\n        ],\n        \"semantic_type\": \"\",\n        \"description\": \"\"\n      }\n    },\n    {\n      \"column\": \"SCC\",\n      \"properties\": {\n        \"dtype\": \"category\",\n        \"num_unique_values\": 2,\n        \"samples\": [\n          \"yes\",\n          \"no\"\n        ],\n        \"semantic_type\": \"\",\n        \"description\": \"\"\n      }\n    },\n    {\n      \"column\": \"FAF\",\n      \"properties\": {\n        \"dtype\": \"number\",\n        \"std\": 0.850592430836698,\n        \"min\": 0.0,\n        \"max\": 3.0,\n        \"num_unique_values\": 1190,\n        \"samples\": [\n          1.655488,\n          2.433918\n        ],\n        \"semantic_type\": \"\",\n        \"description\": \"\"\n      }\n    },\n    {\n      \"column\": \"TUE\",\n      \"properties\": {\n        \"dtype\": \"number\",\n        \"std\": 0.6089272596763782,\n        \"min\": 0.0,\n        \"max\": 2.0,\n        \"num_unique_values\": 1129,\n        \"samples\": [\n          1.416353,\n          0.878258\n        ],\n        \"semantic_type\": \"\",\n        \"description\": \"\"\n      }\n    },\n    {\n      \"column\": \"CALC\",\n      \"properties\": {\n        \"dtype\": \"category\",\n        \"num_unique_values\": 4,\n        \"samples\": [\n          \"Sometimes\",\n          \"Always\"\n        ],\n        \"semantic_type\": \"\",\n        \"description\": \"\"\n      }\n    },\n    {\n      \"column\": \"MTRANS\",\n      \"properties\": {\n        \"dtype\": \"category\",\n        \"num_unique_values\": 5,\n        \"samples\": [\n          \"Walking\",\n          \"Bike\"\n        ],\n        \"semantic_type\": \"\",\n        \"description\": \"\"\n      }\n    },\n    {\n      \"column\": \"NObeyesdad\",\n      \"properties\": {\n        \"dtype\": \"category\",\n        \"num_unique_values\": 7,\n        \"samples\": [\n          \"Normal_Weight\",\n          \"Overweight_Level_I\"\n        ],\n        \"semantic_type\": \"\",\n        \"description\": \"\"\n      }\n    }\n  ]\n}",
              "type": "dataframe",
              "variable_name": "dataset"
            },
            "text/html": [
              "\n",
              "  <div id=\"df-8673f255-dcb6-4215-8844-d8e7fa384201\" class=\"colab-df-container\">\n",
              "    <div>\n",
              "<style scoped>\n",
              "    .dataframe tbody tr th:only-of-type {\n",
              "        vertical-align: middle;\n",
              "    }\n",
              "\n",
              "    .dataframe tbody tr th {\n",
              "        vertical-align: top;\n",
              "    }\n",
              "\n",
              "    .dataframe thead th {\n",
              "        text-align: right;\n",
              "    }\n",
              "</style>\n",
              "<table border=\"1\" class=\"dataframe\">\n",
              "  <thead>\n",
              "    <tr style=\"text-align: right;\">\n",
              "      <th></th>\n",
              "      <th>Gender</th>\n",
              "      <th>Age</th>\n",
              "      <th>Height</th>\n",
              "      <th>Weight</th>\n",
              "      <th>family_history_with_overweight</th>\n",
              "      <th>FAVC</th>\n",
              "      <th>FCVC</th>\n",
              "      <th>NCP</th>\n",
              "      <th>CAEC</th>\n",
              "      <th>SMOKE</th>\n",
              "      <th>CH2O</th>\n",
              "      <th>SCC</th>\n",
              "      <th>FAF</th>\n",
              "      <th>TUE</th>\n",
              "      <th>CALC</th>\n",
              "      <th>MTRANS</th>\n",
              "      <th>NObeyesdad</th>\n",
              "    </tr>\n",
              "  </thead>\n",
              "  <tbody>\n",
              "    <tr>\n",
              "      <th>0</th>\n",
              "      <td>Female</td>\n",
              "      <td>21.000000</td>\n",
              "      <td>1.620000</td>\n",
              "      <td>64.000000</td>\n",
              "      <td>yes</td>\n",
              "      <td>no</td>\n",
              "      <td>2.0</td>\n",
              "      <td>3.0</td>\n",
              "      <td>Sometimes</td>\n",
              "      <td>no</td>\n",
              "      <td>2.000000</td>\n",
              "      <td>no</td>\n",
              "      <td>0.000000</td>\n",
              "      <td>1.000000</td>\n",
              "      <td>no</td>\n",
              "      <td>Public_Transportation</td>\n",
              "      <td>Normal_Weight</td>\n",
              "    </tr>\n",
              "    <tr>\n",
              "      <th>1</th>\n",
              "      <td>Female</td>\n",
              "      <td>21.000000</td>\n",
              "      <td>1.520000</td>\n",
              "      <td>56.000000</td>\n",
              "      <td>yes</td>\n",
              "      <td>no</td>\n",
              "      <td>3.0</td>\n",
              "      <td>3.0</td>\n",
              "      <td>Sometimes</td>\n",
              "      <td>yes</td>\n",
              "      <td>3.000000</td>\n",
              "      <td>yes</td>\n",
              "      <td>3.000000</td>\n",
              "      <td>0.000000</td>\n",
              "      <td>Sometimes</td>\n",
              "      <td>Public_Transportation</td>\n",
              "      <td>Normal_Weight</td>\n",
              "    </tr>\n",
              "    <tr>\n",
              "      <th>2</th>\n",
              "      <td>Male</td>\n",
              "      <td>23.000000</td>\n",
              "      <td>1.800000</td>\n",
              "      <td>77.000000</td>\n",
              "      <td>yes</td>\n",
              "      <td>no</td>\n",
              "      <td>2.0</td>\n",
              "      <td>3.0</td>\n",
              "      <td>Sometimes</td>\n",
              "      <td>no</td>\n",
              "      <td>2.000000</td>\n",
              "      <td>no</td>\n",
              "      <td>2.000000</td>\n",
              "      <td>1.000000</td>\n",
              "      <td>Frequently</td>\n",
              "      <td>Public_Transportation</td>\n",
              "      <td>Normal_Weight</td>\n",
              "    </tr>\n",
              "    <tr>\n",
              "      <th>3</th>\n",
              "      <td>Male</td>\n",
              "      <td>27.000000</td>\n",
              "      <td>1.800000</td>\n",
              "      <td>87.000000</td>\n",
              "      <td>no</td>\n",
              "      <td>no</td>\n",
              "      <td>3.0</td>\n",
              "      <td>3.0</td>\n",
              "      <td>Sometimes</td>\n",
              "      <td>no</td>\n",
              "      <td>2.000000</td>\n",
              "      <td>no</td>\n",
              "      <td>2.000000</td>\n",
              "      <td>0.000000</td>\n",
              "      <td>Frequently</td>\n",
              "      <td>Walking</td>\n",
              "      <td>Overweight_Level_I</td>\n",
              "    </tr>\n",
              "    <tr>\n",
              "      <th>4</th>\n",
              "      <td>Male</td>\n",
              "      <td>22.000000</td>\n",
              "      <td>1.780000</td>\n",
              "      <td>89.800000</td>\n",
              "      <td>no</td>\n",
              "      <td>no</td>\n",
              "      <td>2.0</td>\n",
              "      <td>1.0</td>\n",
              "      <td>Sometimes</td>\n",
              "      <td>no</td>\n",
              "      <td>2.000000</td>\n",
              "      <td>no</td>\n",
              "      <td>0.000000</td>\n",
              "      <td>0.000000</td>\n",
              "      <td>Sometimes</td>\n",
              "      <td>Public_Transportation</td>\n",
              "      <td>Overweight_Level_II</td>\n",
              "    </tr>\n",
              "    <tr>\n",
              "      <th>...</th>\n",
              "      <td>...</td>\n",
              "      <td>...</td>\n",
              "      <td>...</td>\n",
              "      <td>...</td>\n",
              "      <td>...</td>\n",
              "      <td>...</td>\n",
              "      <td>...</td>\n",
              "      <td>...</td>\n",
              "      <td>...</td>\n",
              "      <td>...</td>\n",
              "      <td>...</td>\n",
              "      <td>...</td>\n",
              "      <td>...</td>\n",
              "      <td>...</td>\n",
              "      <td>...</td>\n",
              "      <td>...</td>\n",
              "      <td>...</td>\n",
              "    </tr>\n",
              "    <tr>\n",
              "      <th>2106</th>\n",
              "      <td>Female</td>\n",
              "      <td>20.976842</td>\n",
              "      <td>1.710730</td>\n",
              "      <td>131.408528</td>\n",
              "      <td>yes</td>\n",
              "      <td>yes</td>\n",
              "      <td>3.0</td>\n",
              "      <td>3.0</td>\n",
              "      <td>Sometimes</td>\n",
              "      <td>no</td>\n",
              "      <td>1.728139</td>\n",
              "      <td>no</td>\n",
              "      <td>1.676269</td>\n",
              "      <td>0.906247</td>\n",
              "      <td>Sometimes</td>\n",
              "      <td>Public_Transportation</td>\n",
              "      <td>Obesity_Type_III</td>\n",
              "    </tr>\n",
              "    <tr>\n",
              "      <th>2107</th>\n",
              "      <td>Female</td>\n",
              "      <td>21.982942</td>\n",
              "      <td>1.748584</td>\n",
              "      <td>133.742943</td>\n",
              "      <td>yes</td>\n",
              "      <td>yes</td>\n",
              "      <td>3.0</td>\n",
              "      <td>3.0</td>\n",
              "      <td>Sometimes</td>\n",
              "      <td>no</td>\n",
              "      <td>2.005130</td>\n",
              "      <td>no</td>\n",
              "      <td>1.341390</td>\n",
              "      <td>0.599270</td>\n",
              "      <td>Sometimes</td>\n",
              "      <td>Public_Transportation</td>\n",
              "      <td>Obesity_Type_III</td>\n",
              "    </tr>\n",
              "    <tr>\n",
              "      <th>2108</th>\n",
              "      <td>Female</td>\n",
              "      <td>22.524036</td>\n",
              "      <td>1.752206</td>\n",
              "      <td>133.689352</td>\n",
              "      <td>yes</td>\n",
              "      <td>yes</td>\n",
              "      <td>3.0</td>\n",
              "      <td>3.0</td>\n",
              "      <td>Sometimes</td>\n",
              "      <td>no</td>\n",
              "      <td>2.054193</td>\n",
              "      <td>no</td>\n",
              "      <td>1.414209</td>\n",
              "      <td>0.646288</td>\n",
              "      <td>Sometimes</td>\n",
              "      <td>Public_Transportation</td>\n",
              "      <td>Obesity_Type_III</td>\n",
              "    </tr>\n",
              "    <tr>\n",
              "      <th>2109</th>\n",
              "      <td>Female</td>\n",
              "      <td>24.361936</td>\n",
              "      <td>1.739450</td>\n",
              "      <td>133.346641</td>\n",
              "      <td>yes</td>\n",
              "      <td>yes</td>\n",
              "      <td>3.0</td>\n",
              "      <td>3.0</td>\n",
              "      <td>Sometimes</td>\n",
              "      <td>no</td>\n",
              "      <td>2.852339</td>\n",
              "      <td>no</td>\n",
              "      <td>1.139107</td>\n",
              "      <td>0.586035</td>\n",
              "      <td>Sometimes</td>\n",
              "      <td>Public_Transportation</td>\n",
              "      <td>Obesity_Type_III</td>\n",
              "    </tr>\n",
              "    <tr>\n",
              "      <th>2110</th>\n",
              "      <td>Female</td>\n",
              "      <td>23.664709</td>\n",
              "      <td>1.738836</td>\n",
              "      <td>133.472641</td>\n",
              "      <td>yes</td>\n",
              "      <td>yes</td>\n",
              "      <td>3.0</td>\n",
              "      <td>3.0</td>\n",
              "      <td>Sometimes</td>\n",
              "      <td>no</td>\n",
              "      <td>2.863513</td>\n",
              "      <td>no</td>\n",
              "      <td>1.026452</td>\n",
              "      <td>0.714137</td>\n",
              "      <td>Sometimes</td>\n",
              "      <td>Public_Transportation</td>\n",
              "      <td>Obesity_Type_III</td>\n",
              "    </tr>\n",
              "  </tbody>\n",
              "</table>\n",
              "<p>2111 rows × 17 columns</p>\n",
              "</div>\n",
              "    <div class=\"colab-df-buttons\">\n",
              "\n",
              "  <div class=\"colab-df-container\">\n",
              "    <button class=\"colab-df-convert\" onclick=\"convertToInteractive('df-8673f255-dcb6-4215-8844-d8e7fa384201')\"\n",
              "            title=\"Convert this dataframe to an interactive table.\"\n",
              "            style=\"display:none;\">\n",
              "\n",
              "  <svg xmlns=\"http://www.w3.org/2000/svg\" height=\"24px\" viewBox=\"0 -960 960 960\">\n",
              "    <path d=\"M120-120v-720h720v720H120Zm60-500h600v-160H180v160Zm220 220h160v-160H400v160Zm0 220h160v-160H400v160ZM180-400h160v-160H180v160Zm440 0h160v-160H620v160ZM180-180h160v-160H180v160Zm440 0h160v-160H620v160Z\"/>\n",
              "  </svg>\n",
              "    </button>\n",
              "\n",
              "  <style>\n",
              "    .colab-df-container {\n",
              "      display:flex;\n",
              "      gap: 12px;\n",
              "    }\n",
              "\n",
              "    .colab-df-convert {\n",
              "      background-color: #E8F0FE;\n",
              "      border: none;\n",
              "      border-radius: 50%;\n",
              "      cursor: pointer;\n",
              "      display: none;\n",
              "      fill: #1967D2;\n",
              "      height: 32px;\n",
              "      padding: 0 0 0 0;\n",
              "      width: 32px;\n",
              "    }\n",
              "\n",
              "    .colab-df-convert:hover {\n",
              "      background-color: #E2EBFA;\n",
              "      box-shadow: 0px 1px 2px rgba(60, 64, 67, 0.3), 0px 1px 3px 1px rgba(60, 64, 67, 0.15);\n",
              "      fill: #174EA6;\n",
              "    }\n",
              "\n",
              "    .colab-df-buttons div {\n",
              "      margin-bottom: 4px;\n",
              "    }\n",
              "\n",
              "    [theme=dark] .colab-df-convert {\n",
              "      background-color: #3B4455;\n",
              "      fill: #D2E3FC;\n",
              "    }\n",
              "\n",
              "    [theme=dark] .colab-df-convert:hover {\n",
              "      background-color: #434B5C;\n",
              "      box-shadow: 0px 1px 3px 1px rgba(0, 0, 0, 0.15);\n",
              "      filter: drop-shadow(0px 1px 2px rgba(0, 0, 0, 0.3));\n",
              "      fill: #FFFFFF;\n",
              "    }\n",
              "  </style>\n",
              "\n",
              "    <script>\n",
              "      const buttonEl =\n",
              "        document.querySelector('#df-8673f255-dcb6-4215-8844-d8e7fa384201 button.colab-df-convert');\n",
              "      buttonEl.style.display =\n",
              "        google.colab.kernel.accessAllowed ? 'block' : 'none';\n",
              "\n",
              "      async function convertToInteractive(key) {\n",
              "        const element = document.querySelector('#df-8673f255-dcb6-4215-8844-d8e7fa384201');\n",
              "        const dataTable =\n",
              "          await google.colab.kernel.invokeFunction('convertToInteractive',\n",
              "                                                    [key], {});\n",
              "        if (!dataTable) return;\n",
              "\n",
              "        const docLinkHtml = 'Like what you see? Visit the ' +\n",
              "          '<a target=\"_blank\" href=https://colab.research.google.com/notebooks/data_table.ipynb>data table notebook</a>'\n",
              "          + ' to learn more about interactive tables.';\n",
              "        element.innerHTML = '';\n",
              "        dataTable['output_type'] = 'display_data';\n",
              "        await google.colab.output.renderOutput(dataTable, element);\n",
              "        const docLink = document.createElement('div');\n",
              "        docLink.innerHTML = docLinkHtml;\n",
              "        element.appendChild(docLink);\n",
              "      }\n",
              "    </script>\n",
              "  </div>\n",
              "\n",
              "\n",
              "<div id=\"df-70f5d80b-fa44-461a-b03a-ebd9964debee\">\n",
              "  <button class=\"colab-df-quickchart\" onclick=\"quickchart('df-70f5d80b-fa44-461a-b03a-ebd9964debee')\"\n",
              "            title=\"Suggest charts\"\n",
              "            style=\"display:none;\">\n",
              "\n",
              "<svg xmlns=\"http://www.w3.org/2000/svg\" height=\"24px\"viewBox=\"0 0 24 24\"\n",
              "     width=\"24px\">\n",
              "    <g>\n",
              "        <path d=\"M19 3H5c-1.1 0-2 .9-2 2v14c0 1.1.9 2 2 2h14c1.1 0 2-.9 2-2V5c0-1.1-.9-2-2-2zM9 17H7v-7h2v7zm4 0h-2V7h2v10zm4 0h-2v-4h2v4z\"/>\n",
              "    </g>\n",
              "</svg>\n",
              "  </button>\n",
              "\n",
              "<style>\n",
              "  .colab-df-quickchart {\n",
              "      --bg-color: #E8F0FE;\n",
              "      --fill-color: #1967D2;\n",
              "      --hover-bg-color: #E2EBFA;\n",
              "      --hover-fill-color: #174EA6;\n",
              "      --disabled-fill-color: #AAA;\n",
              "      --disabled-bg-color: #DDD;\n",
              "  }\n",
              "\n",
              "  [theme=dark] .colab-df-quickchart {\n",
              "      --bg-color: #3B4455;\n",
              "      --fill-color: #D2E3FC;\n",
              "      --hover-bg-color: #434B5C;\n",
              "      --hover-fill-color: #FFFFFF;\n",
              "      --disabled-bg-color: #3B4455;\n",
              "      --disabled-fill-color: #666;\n",
              "  }\n",
              "\n",
              "  .colab-df-quickchart {\n",
              "    background-color: var(--bg-color);\n",
              "    border: none;\n",
              "    border-radius: 50%;\n",
              "    cursor: pointer;\n",
              "    display: none;\n",
              "    fill: var(--fill-color);\n",
              "    height: 32px;\n",
              "    padding: 0;\n",
              "    width: 32px;\n",
              "  }\n",
              "\n",
              "  .colab-df-quickchart:hover {\n",
              "    background-color: var(--hover-bg-color);\n",
              "    box-shadow: 0 1px 2px rgba(60, 64, 67, 0.3), 0 1px 3px 1px rgba(60, 64, 67, 0.15);\n",
              "    fill: var(--button-hover-fill-color);\n",
              "  }\n",
              "\n",
              "  .colab-df-quickchart-complete:disabled,\n",
              "  .colab-df-quickchart-complete:disabled:hover {\n",
              "    background-color: var(--disabled-bg-color);\n",
              "    fill: var(--disabled-fill-color);\n",
              "    box-shadow: none;\n",
              "  }\n",
              "\n",
              "  .colab-df-spinner {\n",
              "    border: 2px solid var(--fill-color);\n",
              "    border-color: transparent;\n",
              "    border-bottom-color: var(--fill-color);\n",
              "    animation:\n",
              "      spin 1s steps(1) infinite;\n",
              "  }\n",
              "\n",
              "  @keyframes spin {\n",
              "    0% {\n",
              "      border-color: transparent;\n",
              "      border-bottom-color: var(--fill-color);\n",
              "      border-left-color: var(--fill-color);\n",
              "    }\n",
              "    20% {\n",
              "      border-color: transparent;\n",
              "      border-left-color: var(--fill-color);\n",
              "      border-top-color: var(--fill-color);\n",
              "    }\n",
              "    30% {\n",
              "      border-color: transparent;\n",
              "      border-left-color: var(--fill-color);\n",
              "      border-top-color: var(--fill-color);\n",
              "      border-right-color: var(--fill-color);\n",
              "    }\n",
              "    40% {\n",
              "      border-color: transparent;\n",
              "      border-right-color: var(--fill-color);\n",
              "      border-top-color: var(--fill-color);\n",
              "    }\n",
              "    60% {\n",
              "      border-color: transparent;\n",
              "      border-right-color: var(--fill-color);\n",
              "    }\n",
              "    80% {\n",
              "      border-color: transparent;\n",
              "      border-right-color: var(--fill-color);\n",
              "      border-bottom-color: var(--fill-color);\n",
              "    }\n",
              "    90% {\n",
              "      border-color: transparent;\n",
              "      border-bottom-color: var(--fill-color);\n",
              "    }\n",
              "  }\n",
              "</style>\n",
              "\n",
              "  <script>\n",
              "    async function quickchart(key) {\n",
              "      const quickchartButtonEl =\n",
              "        document.querySelector('#' + key + ' button');\n",
              "      quickchartButtonEl.disabled = true;  // To prevent multiple clicks.\n",
              "      quickchartButtonEl.classList.add('colab-df-spinner');\n",
              "      try {\n",
              "        const charts = await google.colab.kernel.invokeFunction(\n",
              "            'suggestCharts', [key], {});\n",
              "      } catch (error) {\n",
              "        console.error('Error during call to suggestCharts:', error);\n",
              "      }\n",
              "      quickchartButtonEl.classList.remove('colab-df-spinner');\n",
              "      quickchartButtonEl.classList.add('colab-df-quickchart-complete');\n",
              "    }\n",
              "    (() => {\n",
              "      let quickchartButtonEl =\n",
              "        document.querySelector('#df-70f5d80b-fa44-461a-b03a-ebd9964debee button');\n",
              "      quickchartButtonEl.style.display =\n",
              "        google.colab.kernel.accessAllowed ? 'block' : 'none';\n",
              "    })();\n",
              "  </script>\n",
              "</div>\n",
              "    </div>\n",
              "  </div>\n"
            ],
            "text/plain": [
              "      Gender        Age    Height      Weight family_history_with_overweight  \\\n",
              "0     Female  21.000000  1.620000   64.000000                            yes   \n",
              "1     Female  21.000000  1.520000   56.000000                            yes   \n",
              "2       Male  23.000000  1.800000   77.000000                            yes   \n",
              "3       Male  27.000000  1.800000   87.000000                             no   \n",
              "4       Male  22.000000  1.780000   89.800000                             no   \n",
              "...      ...        ...       ...         ...                            ...   \n",
              "2106  Female  20.976842  1.710730  131.408528                            yes   \n",
              "2107  Female  21.982942  1.748584  133.742943                            yes   \n",
              "2108  Female  22.524036  1.752206  133.689352                            yes   \n",
              "2109  Female  24.361936  1.739450  133.346641                            yes   \n",
              "2110  Female  23.664709  1.738836  133.472641                            yes   \n",
              "\n",
              "     FAVC  FCVC  NCP       CAEC SMOKE      CH2O  SCC       FAF       TUE  \\\n",
              "0      no   2.0  3.0  Sometimes    no  2.000000   no  0.000000  1.000000   \n",
              "1      no   3.0  3.0  Sometimes   yes  3.000000  yes  3.000000  0.000000   \n",
              "2      no   2.0  3.0  Sometimes    no  2.000000   no  2.000000  1.000000   \n",
              "3      no   3.0  3.0  Sometimes    no  2.000000   no  2.000000  0.000000   \n",
              "4      no   2.0  1.0  Sometimes    no  2.000000   no  0.000000  0.000000   \n",
              "...   ...   ...  ...        ...   ...       ...  ...       ...       ...   \n",
              "2106  yes   3.0  3.0  Sometimes    no  1.728139   no  1.676269  0.906247   \n",
              "2107  yes   3.0  3.0  Sometimes    no  2.005130   no  1.341390  0.599270   \n",
              "2108  yes   3.0  3.0  Sometimes    no  2.054193   no  1.414209  0.646288   \n",
              "2109  yes   3.0  3.0  Sometimes    no  2.852339   no  1.139107  0.586035   \n",
              "2110  yes   3.0  3.0  Sometimes    no  2.863513   no  1.026452  0.714137   \n",
              "\n",
              "            CALC                 MTRANS           NObeyesdad  \n",
              "0             no  Public_Transportation        Normal_Weight  \n",
              "1      Sometimes  Public_Transportation        Normal_Weight  \n",
              "2     Frequently  Public_Transportation        Normal_Weight  \n",
              "3     Frequently                Walking   Overweight_Level_I  \n",
              "4      Sometimes  Public_Transportation  Overweight_Level_II  \n",
              "...          ...                    ...                  ...  \n",
              "2106   Sometimes  Public_Transportation     Obesity_Type_III  \n",
              "2107   Sometimes  Public_Transportation     Obesity_Type_III  \n",
              "2108   Sometimes  Public_Transportation     Obesity_Type_III  \n",
              "2109   Sometimes  Public_Transportation     Obesity_Type_III  \n",
              "2110   Sometimes  Public_Transportation     Obesity_Type_III  \n",
              "\n",
              "[2111 rows x 17 columns]"
            ]
          },
          "execution_count": 2,
          "metadata": {},
          "output_type": "execute_result"
        }
      ],
      "source": [
        "dataset"
      ]
    },
    {
      "cell_type": "markdown",
      "metadata": {
        "id": "DKCMyduq3NpU"
      },
      "source": [
        "# **REGRESSIONE LINEARE**"
      ]
    },
    {
      "cell_type": "markdown",
      "metadata": {
        "id": "_gHhYcCA4lIi"
      },
      "source": [
        "## Copia del dataset e mappatura variabili categoriche"
      ]
    },
    {
      "cell_type": "code",
      "execution_count": null,
      "metadata": {
        "id": "Z0Ei9aVu5Aso"
      },
      "outputs": [],
      "source": [
        "# Copia profonda del dataset\n",
        "dataset_c = dataset.copy()\n",
        "\n",
        "\n",
        "# Trasformo le variabili categoriche in valori numerici utilizzabili dal modello\n",
        "# -------------------------------------------------------------------------------------------------------------------------Gender\n",
        "gender_mapping = {'Female': 0, 'Male': 1} #dizionario per mappare ogni categoria ad un valore intero\n",
        "# Usiamo il dizionario per sostituire le categorie con gli interi corrispondenti nel DataFrame\n",
        "dataset_c['Gender'] = dataset_c['Gender'].map(gender_mapping)\n",
        "\n",
        "# -------------------------------------------------------------------------------------------------------------------------family_history_with_overweight\n",
        "family_history_mapping = {'no': 0, 'yes': 1}\n",
        "dataset_c['family_history_with_overweight'] = dataset_c['family_history_with_overweight'].map(family_history_mapping)\n",
        "\n",
        "# -------------------------------------------------------------------------------------------------------------------------FAVC\n",
        "FAVC_mapping = {'no': 0, 'yes': 1}\n",
        "dataset_c['FAVC'] = dataset_c['FAVC'].map(FAVC_mapping)\n",
        "\n",
        "# -------------------------------------------------------------------------------------------------------------------------CAEC\n",
        "CAEC_mapping = {'no': 0, 'Sometimes': 1, 'Frequently': 2, 'Always': 3}\n",
        "dataset_c['CAEC'] = dataset_c['CAEC'].map(CAEC_mapping)\n",
        "\n",
        "# -------------------------------------------------------------------------------------------------------------------------SMOKE\n",
        "SMOKE_mapping = {'no': 0, 'yes': 1}\n",
        "dataset_c['SMOKE'] = dataset_c['SMOKE'].map(SMOKE_mapping)\n",
        "\n",
        "# -------------------------------------------------------------------------------------------------------------------------SCC\n",
        "SCC_mapping = {'no': 0, 'yes': 1}\n",
        "dataset_c['SCC'] = dataset_c['SCC'].map(SCC_mapping)\n",
        "\n",
        "# -------------------------------------------------------------------------------------------------------------------------CALC\n",
        "CALC_mapping = {'no': 0, 'Sometimes': 1, 'Frequently': 2, 'Always': 3}\n",
        "dataset_c['CALC'] = dataset_c['CALC'].map(CALC_mapping)\n",
        "\n",
        "# -------------------------------------------------------------------------------------------------------------------------MTRANS (one-hot encoding)\n",
        "MTRANS_mapping = {'Public_Transportation': [1, 0, 0, 0, 0],\n",
        "                   'Walking': [0, 1, 0, 0, 0],\n",
        "                   'Automobile': [0, 0, 1, 0, 0],\n",
        "                   'Motorbike': [0, 0, 0, 1, 0],\n",
        "                   'Bike': [0, 0, 0, 0, 1]}\n",
        "# Apply mapping to MTRANS column\n",
        "dataset_c['MTRANS_Public_Transportation'] = dataset_c['MTRANS'].apply(lambda x: MTRANS_mapping[x][0])\n",
        "dataset_c['MTRANS_Walking'] = dataset_c['MTRANS'].apply(lambda x: MTRANS_mapping[x][1])\n",
        "dataset_c['MTRANS_Automobile'] = dataset_c['MTRANS'].apply(lambda x: MTRANS_mapping[x][2])\n",
        "dataset_c['MTRANS_Motorbike'] = dataset_c['MTRANS'].apply(lambda x: MTRANS_mapping[x][3])\n",
        "dataset_c['MTRANS_Bike'] = dataset_c['MTRANS'].apply(lambda x: MTRANS_mapping[x][4])\n",
        "# elimino la colonna MTRANS\n",
        "dataset_c.drop('MTRANS', axis=1, inplace=True)\n",
        "\n",
        "# -------------------------------------------------------------------------------------------------------------------------NObeyesdad\n",
        "NObeyesdad_mapping = {'Insufficient_Weight': 0, 'Normal_Weight': 1, 'Overweight_Level_I': 2, 'Overweight_Level_II': 3, 'Obesity_Type_I': 4, 'Obesity_Type_II': 5, 'Obesity_Type_III': 6}\n",
        "dataset_c['NObeyesdad'] = dataset_c['NObeyesdad'].map(NObeyesdad_mapping)\n"
      ]
    },
    {
      "cell_type": "markdown",
      "metadata": {
        "id": "2hh1qDGM8ZkR"
      },
      "source": [
        "## Divisione del dataset in dataset_training e dataset_test"
      ]
    },
    {
      "cell_type": "code",
      "execution_count": null,
      "metadata": {
        "id": "YWmsOCxqM1I8"
      },
      "outputs": [],
      "source": [
        "dataset_c = dataset_c.sample(frac=1).reset_index(drop=True)   #rimescola casualmente le righe del dataset\n",
        "\n",
        "# splitting in training set e test set\n",
        "TRAIN_TEST_SPLIT_PERCENTAGE = 0.9\n",
        "dataset_training = dataset_c[:int(len(dataset_c) * TRAIN_TEST_SPLIT_PERCENTAGE)]\n",
        "dataset_test = dataset_c[int(len(dataset_c) * TRAIN_TEST_SPLIT_PERCENTAGE):]"
      ]
    },
    {
      "cell_type": "markdown",
      "metadata": {
        "id": "RKXk8G0G1yFJ"
      },
      "source": [
        "## Implementazione:"
      ]
    },
    {
      "cell_type": "code",
      "execution_count": null,
      "metadata": {
        "colab": {
          "base_uri": "https://localhost:8080/"
        },
        "id": "BJeQVBcwpM_5",
        "outputId": "e983cdca-355f-493d-c9dd-62e8bd941b77"
      },
      "outputs": [
        {
          "name": "stdout",
          "output_type": "stream",
          "text": [
            "Mean Absolute Error: 3.788554501417759\n",
            "Mean Squared Error: 23.962103474694377\n",
            "Root Mean Squared Error: 4.895110159607685\n"
          ]
        }
      ],
      "source": [
        "# Regressione lineare: trovare Weight\n",
        "\n",
        "# Variabile dipendente (obbiettivo)\n",
        "y_train = dataset_training['Weight']\n",
        "y_test = dataset_test['Weight']\n",
        "# Variabili indipendenti\n",
        "X_train = dataset_training.drop('Weight', axis=1)\n",
        "X_test = dataset_test.drop('Weight', axis=1)\n",
        "\n",
        "\n",
        "# Standardizzazione dei dati\n",
        "mean = X_train.mean()   # media (di ogni colonna in X_train)\n",
        "std = X_train.std()     # deviazione standard\n",
        "X_train = (X_train - mean) / std      # in questo modo ogni colonna ha media 0 e deviazione standard 1\n",
        "X_test = (X_test - mean) / std        # fa lo stesso su X_test usando media e deviazione standard calcolati su X_train\n",
        "\n",
        "\n",
        "# termine di intercetta (aggiunge una colonna di 1 all'inizio di X)\n",
        "X_train = np.c_[np.ones(X_train.shape[0]), X_train]\n",
        "X_test = np.c_[np.ones(X_test.shape[0]), X_test]\n",
        "\n",
        "\n",
        "# Minimum-loss weight function\n",
        "coefficients = np.linalg.inv(X_train.T.dot(X_train)).dot(X_train.T).dot(y_train)\n",
        "\n",
        "\n",
        "# calcolo previsione del modello sul set di test (y_pred = X_test * coefficients)\n",
        "y_pred = X_test.dot(coefficients)\n",
        "\n",
        "\n",
        "\n",
        "# Calcolo metriche di errore\n",
        "mae = np.mean(np.abs(y_test - y_pred))\n",
        "mse = np.mean((y_test - y_pred)**2)\n",
        "rmse = np.sqrt(mse)\n",
        "\n",
        "print('Mean Absolute Error:', mae)\n",
        "print('Mean Squared Error:', mse)\n",
        "print('Root Mean Squared Error:', rmse)"
      ]
    },
    {
      "cell_type": "markdown",
      "metadata": {
        "id": "8FdZYeourKBC"
      },
      "source": [
        "Implementazione con sklearn (per confronto)"
      ]
    },
    {
      "cell_type": "code",
      "execution_count": null,
      "metadata": {
        "colab": {
          "base_uri": "https://localhost:8080/"
        },
        "id": "_Zxb1P-E1YF7",
        "outputId": "22360a71-15f1-4d9f-c9a8-dda4473570a8"
      },
      "outputs": [
        {
          "name": "stdout",
          "output_type": "stream",
          "text": [
            "Mean Absolute Error: 3.75566563021835\n",
            "Mean Squared Error: 23.858796113429783\n",
            "Root Mean Squared Error: 4.884546664065129\n"
          ]
        }
      ],
      "source": [
        "from sklearn.model_selection import train_test_split\n",
        "from sklearn.preprocessing import StandardScaler  # Optional for standardization\n",
        "from sklearn.linear_model import LinearRegression\n",
        "from sklearn.metrics import mean_absolute_error, mean_squared_error, r2_score\n",
        "\n",
        "model = LinearRegression()\n",
        "model.fit(X_train, y_train)\n",
        "\n",
        "# Make predictions\n",
        "y_pred_p = model.predict(X_test)\n",
        "\n",
        "# Evaluate performance\n",
        "mae_p = mean_absolute_error(y_test, y_pred_p)\n",
        "mse_p = mean_squared_error(y_test, y_pred_p)\n",
        "rmse_p = np.sqrt(mse_p)\n",
        "\n",
        "print('Mean Absolute Error:', mae_p)\n",
        "print('Mean Squared Error:', mse_p)\n",
        "print('Root Mean Squared Error:', rmse_p)\n"
      ]
    },
    {
      "cell_type": "markdown",
      "metadata": {
        "id": "EjgJfZ_aqqEo"
      },
      "source": [
        "\n",
        "\n",
        "# ------------------------------------------------------------------------------------------------------------------------------------------------------\n",
        "\n"
      ]
    },
    {
      "cell_type": "markdown",
      "metadata": {
        "id": "CazTvtJf28hh"
      },
      "source": [
        "# **DECISION TREE (CLASSIFICAZIONE)**"
      ]
    },
    {
      "cell_type": "markdown",
      "metadata": {
        "id": "-AfrcKKQnHU0"
      },
      "source": [
        "consider \"Obesity_Type_I\", \"Obesity_Type_II\" and \"Obesity_Type_III\" as 1, and the other as 0"
      ]
    },
    {
      "cell_type": "markdown",
      "metadata": {
        "id": "UDuLm1vglw7o"
      },
      "source": [
        "## Copia del dataset e mappatura variabili categoriche"
      ]
    },
    {
      "cell_type": "code",
      "execution_count": null,
      "metadata": {
        "id": "DHvmrop03I7y"
      },
      "outputs": [],
      "source": [
        "# Copia profonda del dataset\n",
        "dataset_c = dataset.copy()\n",
        "\n",
        "\n",
        "# Trasformo le variabili categoriche in valori numerici utilizzabili dal modello\n",
        "# -------------------------------------------------------------------------------------------------------------------------Gender\n",
        "gender_mapping = {'Female': 0, 'Male': 1} #dizionario per mappare ogni categoria ad un valore intero\n",
        "# Usiamo il dizionario per sostituire le categorie con gli interi corrispondenti nel DataFrame\n",
        "dataset_c['Gender'] = dataset_c['Gender'].map(gender_mapping)\n",
        "\n",
        "# -------------------------------------------------------------------------------------------------------------------------family_history_with_overweight\n",
        "family_history_mapping = {'no': 0, 'yes': 1}\n",
        "dataset_c['family_history_with_overweight'] = dataset_c['family_history_with_overweight'].map(family_history_mapping)\n",
        "\n",
        "# -------------------------------------------------------------------------------------------------------------------------FAVC\n",
        "FAVC_mapping = {'no': 0, 'yes': 1}\n",
        "dataset_c['FAVC'] = dataset_c['FAVC'].map(FAVC_mapping)\n",
        "\n",
        "# -------------------------------------------------------------------------------------------------------------------------CAEC\n",
        "CAEC_mapping = {'no': 0, 'Sometimes': 1, 'Frequently': 2, 'Always': 3}\n",
        "dataset_c['CAEC'] = dataset_c['CAEC'].map(CAEC_mapping)\n",
        "\n",
        "# -------------------------------------------------------------------------------------------------------------------------SMOKE\n",
        "SMOKE_mapping = {'no': 0, 'yes': 1}\n",
        "dataset_c['SMOKE'] = dataset_c['SMOKE'].map(SMOKE_mapping)\n",
        "\n",
        "# -------------------------------------------------------------------------------------------------------------------------SCC\n",
        "SCC_mapping = {'no': 0, 'yes': 1}\n",
        "dataset_c['SCC'] = dataset_c['SCC'].map(SCC_mapping)\n",
        "\n",
        "# -------------------------------------------------------------------------------------------------------------------------CALC\n",
        "CALC_mapping = {'no': 0, 'Sometimes': 1, 'Frequently': 2, 'Always': 3}\n",
        "dataset_c['CALC'] = dataset_c['CALC'].map(CALC_mapping)\n",
        "\n",
        "# -------------------------------------------------------------------------------------------------------------------------MTRANS (one-hot encoding)\n",
        "MTRANS_mapping = {'Public_Transportation': [1, 0, 0, 0, 0],\n",
        "                   'Walking': [0, 1, 0, 0, 0],\n",
        "                   'Automobile': [0, 0, 1, 0, 0],\n",
        "                   'Motorbike': [0, 0, 0, 1, 0],\n",
        "                   'Bike': [0, 0, 0, 0, 1]}\n",
        "# Apply mapping to MTRANS column\n",
        "dataset_c['MTRANS_Public_Transportation'] = dataset_c['MTRANS'].apply(lambda x: MTRANS_mapping[x][0])\n",
        "dataset_c['MTRANS_Walking'] = dataset_c['MTRANS'].apply(lambda x: MTRANS_mapping[x][1])\n",
        "dataset_c['MTRANS_Automobile'] = dataset_c['MTRANS'].apply(lambda x: MTRANS_mapping[x][2])\n",
        "dataset_c['MTRANS_Motorbike'] = dataset_c['MTRANS'].apply(lambda x: MTRANS_mapping[x][3])\n",
        "dataset_c['MTRANS_Bike'] = dataset_c['MTRANS'].apply(lambda x: MTRANS_mapping[x][4])\n",
        "# elimino la colonna MTRANS\n",
        "dataset_c.drop('MTRANS', axis=1, inplace=True)\n",
        "# -------------------------------------------------------------------------------------------------------------------------NObeyesdad\n",
        "NObeyesdad_mapping = {'Insufficient_Weight': 0, 'Normal_Weight': 0, 'Overweight_Level_I': 0, 'Overweight_Level_II': 0, 'Obesity_Type_I': 1, 'Obesity_Type_II': 1, 'Obesity_Type_III': 1}\n",
        "dataset_c['NObeyesdad'] = dataset_c['NObeyesdad'].map(NObeyesdad_mapping)"
      ]
    },
    {
      "cell_type": "markdown",
      "metadata": {
        "id": "StLiq_eG5vuD"
      },
      "source": [
        "## Divisione del dataset in dataset_training e dataset_test"
      ]
    },
    {
      "cell_type": "code",
      "execution_count": null,
      "metadata": {
        "id": "JD9UlKJz3H4J"
      },
      "outputs": [],
      "source": [
        "dataset_c = dataset_c.sample(frac=1).reset_index(drop=True)   #rimescola casualmente le righe del dataset\n",
        "\n",
        "# splitting in training set e test set\n",
        "TRAIN_TEST_SPLIT_PERCENTAGE = 0.9\n",
        "dataset_training = dataset_c[:int(len(dataset_c) * TRAIN_TEST_SPLIT_PERCENTAGE)]\n",
        "dataset_test = dataset_c[int(len(dataset_c) * TRAIN_TEST_SPLIT_PERCENTAGE):]"
      ]
    },
    {
      "cell_type": "markdown",
      "metadata": {
        "id": "C8OVEbSkihOS"
      },
      "source": [
        "## Implementazione"
      ]
    },
    {
      "cell_type": "markdown",
      "metadata": {
        "id": "1gRHhO6nNrC3"
      },
      "source": [
        "Variabili indipendenti e dipendente"
      ]
    },
    {
      "cell_type": "code",
      "execution_count": null,
      "metadata": {
        "id": "Ped_lAWIs-YF"
      },
      "outputs": [],
      "source": [
        "# Variabile dipendente (obbiettivo)\n",
        "y_train = dataset_training['NObeyesdad']\n",
        "y_test = dataset_test['NObeyesdad']\n",
        "# Variabili indipendenti\n",
        "X_train = dataset_training.drop('NObeyesdad', axis=1)\n",
        "X_test = dataset_test.drop('NObeyesdad', axis=1)"
      ]
    },
    {
      "cell_type": "markdown",
      "metadata": {
        "id": "_1tqYUBJjWXR"
      },
      "source": [
        "Classe Node"
      ]
    },
    {
      "cell_type": "code",
      "execution_count": null,
      "metadata": {
        "id": "cJkUsFaKvjjC"
      },
      "outputs": [],
      "source": [
        "class Node():\n",
        "\n",
        "  # costruttore\n",
        "  def __init__(self, feature_index=None, threshold=None, children=None, samples=None, value=None):\n",
        "\n",
        "    # nodi di decisione\n",
        "    self.feature_index = feature_index    # indice della feature da testare\n",
        "    self.threshold = threshold\n",
        "    self.children = children      # nodi figli\n",
        "\n",
        "    # per entrambi nodi di decisione e nodi foglia\n",
        "    self.samples = samples        # lista dei sample (righe del dataset)\n",
        "\n",
        "    # nodi foglia\n",
        "    self.value = value    # valore di maggioranza del nodo foglia\n"
      ]
    },
    {
      "cell_type": "markdown",
      "metadata": {
        "id": "cqwGcJtt8qXN"
      },
      "source": [
        "Classe DecisionTree"
      ]
    },
    {
      "cell_type": "code",
      "execution_count": null,
      "metadata": {
        "id": "bUUgzGPs8sRp"
      },
      "outputs": [],
      "source": [
        "class DecisionTree():\n",
        "\n",
        "# --------------------------------------------------------------------------------------------------\n",
        "  # costruttore\n",
        "  def __init__(self, min_samples_split=2, max_depth=5):\n",
        "\n",
        "    self.root = None    # radice dell'albero\n",
        "\n",
        "    self.min_samples_split = min_samples_split    # numero minimo di elementi su cui poter fare split\n",
        "    self.max_depth = max_depth      # massima profondità dell'albero\n",
        "\n",
        "\n",
        "# --------------------------------------------------------------------------------------------------\n",
        "  # funzione per costruzione dell'albero\n",
        "  def build_tree(self, curr_depth, data, k):\n",
        "    #print(\"\\n\\n*****************************************************************************************************\\n\")       # <---- DEBUG\n",
        "    #print(\"$$$$$$$$$$$$$$$$$$$$$$$$$$$$ INVOCAZIONE BUILD_TREE $$$$$$$$$$$$$$$$$$$$$$$$$$$$\\n\\n\")       # <---- DEBUG\n",
        "    # calcola il numero di esempi e di feature\n",
        "    num_samples = np.shape(data)[0]\n",
        "    num_features = np.shape(data)[1]\n",
        "\n",
        "    if (num_samples >= self.min_samples_split and curr_depth < self.max_depth) and (self.isLeaf(data['NObeyesdad']) == False) and (num_features > 1):  # possiamo continuare a costruire l'albero (e non siamo in una foglia)\n",
        "      # troviamo la migliore feature su cui splittare\n",
        "      best_feature, info_gain = self.get_best_feature(data, num_samples, num_features, k)\n",
        "\n",
        "      # figli del nodo\n",
        "      children = []\n",
        "      # divido l'intervallo dei valori di best_feature in k sottointervalli, trovo quindi k-1 valori di threshold\n",
        "      threshold = self.dividek(best_feature, data, num_samples, k)\n",
        "      t = len(threshold) + 1\n",
        "\n",
        "      # ricorsione su ogni sottoalbero\n",
        "      for i in range(t):\n",
        "        # rimuovere da data tutti gli esempi (samples) che non fanno parte del nodo figlio e rimuovere la colonna della feature usata\n",
        "        data_i = self.subset_i(data, best_feature, threshold, i, t)\n",
        "\n",
        "        # ricorsione creando un sottoalbero\n",
        "        #print(\"\\nRICORSIONE SU FIGLIO NUMERO \", i, \" del nodo di decisione sulla feature \", self.nome_colonna(data, best_feature))       # <---- DEBUG\n",
        "        figlio = self.build_tree(curr_depth+1, data_i, k)\n",
        "        if figlio == -1:\n",
        "          continue\n",
        "        children.append(figlio)\n",
        "\n",
        "      #print(\"Numero figli del nodo di decisione sulla feature \", self.nome_colonna(data, best_feature), \" = \", len(children))       # <---- DEBUG\n",
        "      return Node(best_feature, threshold, children, data)\n",
        "\n",
        "\n",
        "    # siamo in un nodo foglia / non possiamo continuare a costruire l'albero\n",
        "    #print(\"NODO FOGLIA\", end=\"\")       # <---- DEBUG\n",
        "    leaf_value = self.calc_leaf_value(data)\n",
        "    #print(\"\\tvalue: \", leaf_value)       # <---- DEBUG\n",
        "\n",
        "    if leaf_value == -1:\n",
        "      return -1\n",
        "\n",
        "    return Node(samples=data, value=leaf_value)   # restituisce il nodo foglia\n",
        "\n",
        "\n",
        "# --------------------------------------------------------------------------------------------------\n",
        "  # funzione che restituisce il nome della colonna con indice index\n",
        "  def nome_colonna(self, data, index):\n",
        "    return data.columns[index]\n",
        "\n",
        "# --------------------------------------------------------------------------------------------------\n",
        "  def isLeaf(self, Y):\n",
        "    return all(v == Y[0] for v in Y)\n",
        "\n",
        "\n",
        "# --------------------------------------------------------------------------------------------------\n",
        "  # funzione che restituisce il valore che compare più volte dentro y\n",
        "  def calc_leaf_value(self, data):\n",
        "    Y = data['NObeyesdad'].tolist()\n",
        "    if Y==[]:   # non ci sono sample in data\n",
        "      return -1\n",
        "    return max(Y, key=Y.count)\n",
        "\n",
        "\n",
        "# --------------------------------------------------------------------------------------------------\n",
        "  # funzione che rimuove da data tutti i valori che non fanno parte del sottoinsieme i-esimo\n",
        "  def subset_i(self, data, feature, threshold, i, k):\n",
        "    data_c = data.copy()\n",
        "    name = self.nome_colonna(data_c, feature)\n",
        "\n",
        "    if len(threshold) == 0:\n",
        "      data_c = data_c.drop(name, axis=1)\n",
        "      return data_c\n",
        "\n",
        "    elif i == 0:  # primo sottoinsieme\n",
        "      data_c = data_c.query(f\"{name} <= {threshold[i]}\").reset_index(drop=True)\n",
        "\n",
        "    elif i == k-1:  # ultimo sottoinsieme\n",
        "      data_c = data_c.query(f\"{name} > {threshold[i-1]}\").reset_index(drop=True)\n",
        "\n",
        "    else:\n",
        "      data_c = data_c.query(f\"{name} > {threshold[i-1]} and {name} <= {threshold[i]}\").reset_index(drop=True)\n",
        "\n",
        "    data_c = data_c.drop(name, axis=1)\n",
        "\n",
        "    return data_c\n",
        "\n",
        "\n",
        "# --------------------------------------------------------------------------------------------------\n",
        "  # funzione che ritorna la migliore feature su cui fare lo split\n",
        "  def get_best_feature(self, data, num_samples, num_features, k):\n",
        "    #print(\"\\n\\n$$$$$$$$$$$$$$$$$$$$$$$$$$$$ INVOCAZIONE GET_BEST_FEATURE $$$$$$$$$$$$$$$$$$$$$$$$$$$$\\n\\n\")       # <---- DEBUG\n",
        "    best = -1\n",
        "    max_ig = -1\n",
        "    # ciclo su ogni feature\n",
        "    for i in range(num_features):\n",
        "      if self.nome_colonna(data, i) == \"NObeyesdad\":\n",
        "        continue\n",
        "      #print(\"\\nÈ la Feature: \", self.nome_colonna(data, i), \"la migliore su cui splittare?\")       # <---- DEBUG\n",
        "      # per ogni feature calcola l'information gain\n",
        "      ig = self.information_gain(data, i, num_samples, k)\n",
        "      #print(\"Information_gain della Feature \", self.nome_colonna(data, i), \": \", ig)       # <---- DEBUG\n",
        "      if (ig > max_ig):\n",
        "        best = i\n",
        "        max_ig = ig\n",
        "\n",
        "    #print(\"\\nMigliore Feature: \", self.nome_colonna(data, best), \"\\tinformation gain: \", max_ig)       # <---- DEBUG\n",
        "    return best, max_ig\n",
        "\n",
        "\n",
        "# --------------------------------------------------------------------------------------------------\n",
        "  # funzione che divide l'intervallo dei valori di best_feature in k sottointervalli, trovo quindi k-1 valori di threshold\n",
        "  def dividek(self, best_feature, data, num_samples, k):\n",
        "    # trovo il numero di valori diversi assunti nel dataset\n",
        "    n = 0\n",
        "    seen = []\n",
        "    for c in range(num_samples):\n",
        "      if data.values[c][best_feature] not in seen:\n",
        "        seen.append(data.values[c][best_feature])\n",
        "        n += 1\n",
        "\n",
        "    if n <= k:    # se n<=k allora suddivido in n insiemi diversi\n",
        "      kn = n\n",
        "    else:\n",
        "      kn = k\n",
        "\n",
        "    # trovo gli estremi dell'intervallo\n",
        "    max = -float(\"inf\")\n",
        "    min = float(\"inf\")\n",
        "    for i in range(num_samples):\n",
        "      if data.values[i][best_feature] < min:\n",
        "        min = data.values[i][best_feature]\n",
        "      elif data.values[i][best_feature] > max:\n",
        "        max = data.values[i][best_feature]\n",
        "\n",
        "    # divido l'intervallo in kn sottoinsiemi\n",
        "    interval = (max - min) / kn\n",
        "    threshold = []\n",
        "    for j in range(1, kn):\n",
        "      threshold.append(min + j*interval)\n",
        "\n",
        "    #print(\"thresholds: \", threshold)       # <---- DEBUG\n",
        "\n",
        "    return threshold\n",
        "\n",
        "\n",
        "# --------------------------------------------------------------------------------------------------\n",
        "  def information_gain(self, data, feature, num_samples, k):\n",
        "    #print(\"\\n\\n$$$$$$$$$$$$$$$$$$$$$$$$$$$$ INVOCAZIONE INFORMATION_GAIN $$$$$$$$$$$$$$$$$$$$$$$$$$$$\\n\\n\")       # <---- DEBUG\n",
        "    p, n = self.samples_pos_neg(data['NObeyesdad'])\n",
        "    ei = self.entropy(p, n)\n",
        "\n",
        "    sum = 0\n",
        "\n",
        "    threshold = self.dividek(feature, data, num_samples, k)\n",
        "    t = len(threshold) + 1\n",
        "\n",
        "    if t == 1:  # solo 1 sottoinsieme (data non è stato diviso)\n",
        "      return 0\n",
        "\n",
        "    for i in range(t):\n",
        "      data_i = self.subset_i(data, feature, threshold, i, t)  # rimuovo da data le righe che non fanno parte del sottoinsieme\n",
        "\n",
        "      pk, nk = self.samples_pos_neg(data_i['NObeyesdad'])\n",
        "      w = (pk+nk)/(p+n)\n",
        "      sum += w * self.entropy(pk, nk)\n",
        "\n",
        "    return ei - sum\n",
        "\n",
        "\n",
        "# --------------------------------------------------------------------------------------------------\n",
        "  # funzione che calcola il numero di samples obesi in Y\n",
        "  def samples_pos_neg(self, Y):\n",
        "    p = 0   # num esempi positivi (obesi)\n",
        "    n = 0   # num esempi negativi (non obesi)\n",
        "    for ex in Y:\n",
        "      if ex == 1:\n",
        "        p+=1\n",
        "      elif ex == 0:\n",
        "        n+=1\n",
        "\n",
        "    return p, n\n",
        "\n",
        "\n",
        "# --------------------------------------------------------------------------------------------------\n",
        "  def entropy(self, p, n):    # p: num esempi positivi (obesi) , n: # num esempi negativi (non obesi)\n",
        "    if p == 0 or n == 0:\n",
        "      return 0\n",
        "\n",
        "    q = p/(p+n)\n",
        "    return -(q * np.log2(q) + (1-q) * np.log2(1-q))\n",
        "\n",
        "\n",
        "# --------------------------------------------------------------------------------------------------\n",
        "  def fit(self, data, k):\n",
        "    #print(\"\\n\\n$$$$$$$$$$$$$$$$$$$$$$$$$$$$ INVOCAZIONE FIT $$$$$$$$$$$$$$$$$$$$$$$$$$$$\\n\\n\")       # <---- DEBUG\n",
        "    self.root = self.build_tree(0, data, k)\n",
        "    #print(\"\\n\\n ++++++++++++++++++++ COSTRUZIONE ALBERO COMPLETATA ++++++++++++++++++++ \\n\\n\")       # <---- DEBUG\n",
        "\n",
        "\n",
        "# --------------------------------------------------------------------------------------------------\n",
        "  def predict(self, X):\n",
        "    #print(\"\\n\\n$$$$$$$$$$$$$$$$$$$$$$$$$$$$ INVOCAZIONE PREDICT $$$$$$$$$$$$$$$$$$$$$$$$$$$$\\n\")       # <---- DEBUG\n",
        "    predictions = []\n",
        "    # esegue make_prediction per ogni riga in X\n",
        "    for ex in X.values:\n",
        "      #print(\"\\nsample \", ex)       # <---- DEBUG\n",
        "      predictions.append(self.make_prediction(ex, self.root))\n",
        "\n",
        "    return predictions\n",
        "\n",
        "\n",
        "# --------------------------------------------------------------------------------------------------\n",
        "  def make_prediction(self, ex, nodo):\n",
        "    if nodo.value != None:    # foglia\n",
        "      return nodo.value\n",
        "\n",
        "    feature_val = ex[nodo.feature_index]\n",
        "    th = nodo.threshold\n",
        "\n",
        "    # trova il sottoinsieme di appartenenza\n",
        "\n",
        "    a = th[0]     # primo threshold\n",
        "    b = th[len(th) - 1]    # ultimo threshold\n",
        "\n",
        "    if feature_val <= a:    # primo sottoinsieme\n",
        "      subset = 0\n",
        "      # ricorsione sul primo figlio\n",
        "      return self.make_prediction(ex, nodo.children[subset])\n",
        "\n",
        "    elif feature_val > b:   # ultimo sottoinsieme\n",
        "      subset = len(nodo.children) - 1\n",
        "      # ricorsione su ultimo figlio\n",
        "      return self.make_prediction(ex, nodo.children[subset])\n",
        "\n",
        "    # non è né nel primo sottoinsieme nè nell'ultimo, trovo gli estremi che delimitano il sottoinsieme\n",
        "    for t in th:\n",
        "      if feature_val >= t and t > a:\n",
        "        a = t\n",
        "      if feature_val < t and t < b:\n",
        "        b = t\n",
        "\n",
        "    subset = -1\n",
        "    for c in range(len(nodo.children)):\n",
        "      df = nodo.children[c].samples\n",
        "      v = df.values[nodo.feature_index][0]\n",
        "      if v > a and v <= b:\n",
        "        subset = c\n",
        "        break\n",
        "\n",
        "      if c >= 1:\n",
        "        v_prec = nodo.children[c-1].samples.values[nodo.feature_index][0]\n",
        "        if v > b and v_prec <= a:\n",
        "          subset = c-1\n",
        "          break\n",
        "\n",
        "    return self.make_prediction(ex, nodo.children[subset])\n"
      ]
    },
    {
      "cell_type": "markdown",
      "metadata": {
        "id": "KbagExAPNvPj"
      },
      "source": [
        "Costruzione albero e predizione"
      ]
    },
    {
      "cell_type": "code",
      "execution_count": null,
      "metadata": {
        "colab": {
          "base_uri": "https://localhost:8080/"
        },
        "id": "p4bjDmUIXCcv",
        "outputId": "38d63681-4c93-4e76-83bd-decca4a27d72"
      },
      "outputs": [
        {
          "name": "stdout",
          "output_type": "stream",
          "text": [
            "Accuracy: 0.8726415094339622\n",
            "Precision: 0.8076923076923077\n",
            "Recall: 0.9230769230769231\n",
            "F1-score: 0.8615384615384616\n"
          ]
        }
      ],
      "source": [
        "max_depth = 5\n",
        "min_samples_split = 2\n",
        "dec_tree = DecisionTree(min_samples_split, max_depth)\n",
        "k = 3   # numero massimo di figli per nodo\n",
        "dec_tree.fit(dataset_training, k)\n",
        "\n",
        "y_pred = dec_tree.predict(X_test)\n",
        "\n",
        "#print(\"\\n\\n\")\n",
        "# metriche di valutazione\n",
        "from sklearn.metrics import accuracy_score, precision_score, recall_score, f1_score\n",
        "print(\"Accuracy:\", accuracy_score(y_test, y_pred))\n",
        "print(\"Precision:\", precision_score(y_test, y_pred))\n",
        "print(\"Recall:\", recall_score(y_test, y_pred))\n",
        "print(\"F1-score:\", f1_score(y_test, y_pred))"
      ]
    },
    {
      "cell_type": "markdown",
      "metadata": {
        "id": "cwWt-Az5rCgd"
      },
      "source": [
        "Implementazione con sklearn (per confronto)"
      ]
    },
    {
      "cell_type": "code",
      "execution_count": null,
      "metadata": {
        "colab": {
          "base_uri": "https://localhost:8080/"
        },
        "id": "LHpe0oAemvt7",
        "outputId": "ebedc3a1-a0b7-4c7d-ba24-2fb674700091"
      },
      "outputs": [
        {
          "name": "stdout",
          "output_type": "stream",
          "text": [
            "Accuracy: 0.9669811320754716\n",
            "Precision: 0.9565217391304348\n",
            "Recall: 0.967032967032967\n",
            "F1-score: 0.9617486338797815\n"
          ]
        }
      ],
      "source": [
        "from sklearn.model_selection import train_test_split\n",
        "from sklearn.tree import DecisionTreeClassifier\n",
        "from sklearn.metrics import accuracy_score, precision_score, recall_score, f1_score\n",
        "\n",
        "# Create a decision tree classifier\n",
        "clf = DecisionTreeClassifier()\n",
        "\n",
        "# Train the model on the training data\n",
        "clf.fit(X_train, y_train)\n",
        "\n",
        "# Make predictions on the testing data\n",
        "predictions = clf.predict(X_test)\n",
        "\n",
        "# Evaluate model performance\n",
        "accuracy = accuracy_score(y_test, predictions)\n",
        "precision = precision_score(y_test, predictions)\n",
        "recall = recall_score(y_test, predictions)\n",
        "f1 = f1_score(y_test, predictions)\n",
        "\n",
        "print(\"Accuracy:\", accuracy)\n",
        "print(\"Precision:\", precision)\n",
        "print(\"Recall:\", recall)\n",
        "print(\"F1-score:\", f1)\n"
      ]
    },
    {
      "cell_type": "markdown",
      "metadata": {
        "id": "vS_N9_MP2Bsv"
      },
      "source": [
        "## Hyperparameter tuning"
      ]
    },
    {
      "cell_type": "code",
      "execution_count": null,
      "metadata": {
        "colab": {
          "background_save": true,
          "base_uri": "https://localhost:8080/"
        },
        "id": "AsSJt-IN2H6p",
        "outputId": "a16545f4-ee41-465e-bf0b-64eaaaa6693c"
      },
      "outputs": [
        {
          "name": "stdout",
          "output_type": "stream",
          "text": [
            "numero figli:  2 \t profondità massima:  3\n",
            "\terror rate medio:  0.19852553975776724 \n",
            "\n",
            "numero figli:  3 \t profondità massima:  4\n",
            "\terror rate medio:  0.1395471300684571 \n",
            "\n",
            "numero figli:  4 \t profondità massima:  5\n",
            "\terror rate medio:  0.21695629278567669 \n",
            "\n",
            "numero figli:  5 \t profondità massima:  6\n",
            "\terror rate medio:  0.29067930489731436 \n",
            "\n",
            "parametri migliori: numero figli:  3 \t profondità massima:  4\n",
            "\n",
            "\n",
            "Accuracy: 0.8726415094339622\n",
            "Precision: 0.8076923076923077\n",
            "Recall: 0.9230769230769231\n",
            "F1-score: 0.8615384615384616\n"
          ]
        }
      ],
      "source": [
        "from sklearn.metrics import accuracy_score\n",
        "\n",
        "def cross_validation(data, num_figli, depth):\n",
        "  error_rate = []\n",
        "  k = 9\n",
        "  size = int(np.floor(data.shape[0] / k))\n",
        "\n",
        "  for i in range(k):\n",
        "    #print(\"iterazione: \", i)\n",
        "    # prendo validation set e train set\n",
        "    validation_set = data.iloc[size*i:size*(i+1)]\n",
        "    train_set = data.drop(validation_set.index)\n",
        "    y_test = validation_set['NObeyesdad']\n",
        "\n",
        "    validation_set = validation_set.reset_index(drop=True)\n",
        "    train_set = train_set.reset_index(drop=True)\n",
        "    y_test = y_test.reset_index(drop=True)\n",
        "\n",
        "    # esecuzione algoritmo\n",
        "    dec_tree = DecisionTree(2, depth)\n",
        "    dec_tree.fit(train_set, num_figli)\n",
        "    y_pred = dec_tree.predict(validation_set)\n",
        "\n",
        "    # errore\n",
        "    e = 1 - accuracy_score(y_test.iloc[validation_set.index], y_pred)\n",
        "    error_rate.append(e)\n",
        "\n",
        "\n",
        "  if data.shape[0] % k != 0:\n",
        "    validation_set = data.iloc[size*k:]\n",
        "    train_set = data.drop(validation_set.index)\n",
        "    y_test = validation_set['NObeyesdad']\n",
        "\n",
        "    validation_set = validation_set.reset_index(drop=True)\n",
        "    train_set = train_set.reset_index(drop=True)\n",
        "    y_test = y_test.reset_index(drop=True)\n",
        "\n",
        "    dec_tree = DecisionTree(2, depth)\n",
        "    dec_tree.fit(train_set, num_figli)\n",
        "    y_pred = dec_tree.predict(validation_set)\n",
        "\n",
        "    e = 1 - accuracy_score(y_test.iloc[validation_set.index], y_pred)\n",
        "    error_rate.append(e)\n",
        "\n",
        "\n",
        "  return np.mean(error_rate)\n",
        "\n",
        "\n",
        "\n",
        "\n",
        "error = []\n",
        "\n",
        "for k, i in zip(range(2, 6), range(3, 7)):    # ciclo sui valori degli iperparametri\n",
        "  print(\"numero figli: \", k, \"\\t profondità massima: \", i)\n",
        "  error.append([[k, i], cross_validation(dataset_training, num_figli=k, depth=i)])\n",
        "  print(\"\\terror rate medio: \", error[-1][1], \"\\n\")\n",
        "\n",
        "\n",
        "best = min(error, key=lambda x: x[1])\n",
        "best_num_figli = best[0][0]\n",
        "best_depth = best[0][1]\n",
        "print(\"parametri migliori: numero figli: \", best_num_figli, \"\\t profondità massima: \", best_depth)\n",
        "\n",
        "dec_tree = DecisionTree(2, best_depth)\n",
        "\n",
        "dec_tree.fit(dataset_training, best_num_figli)\n",
        "\n",
        "y_pred = dec_tree.predict(X_test)\n",
        "\n",
        "print(\"\\n\")\n",
        "# metriche di valutazione\n",
        "from sklearn.metrics import accuracy_score, precision_score, recall_score, f1_score\n",
        "print(\"Accuracy:\", accuracy_score(y_test, y_pred))\n",
        "print(\"Precision:\", precision_score(y_test, y_pred))\n",
        "print(\"Recall:\", recall_score(y_test, y_pred))\n",
        "print(\"F1-score:\", f1_score(y_test, y_pred))"
      ]
    },
    {
      "cell_type": "markdown",
      "metadata": {
        "id": "BJRLztfoZ8SI"
      },
      "source": [
        "**CONSIDERAZIONI:**\n",
        "\n",
        "---\n",
        "\n",
        "Gli iperparametri scelti per l'algoritmo di classificazione con decision tree sono:\n",
        "*   numero massimo di filgi per nodo: controlla il numero massimo di figli che può avere un nodo di decisione. Controlla quindi il numero massimo di sottoinsiemi in cui dividere il dataset sul valore di una feature.\n",
        "*   profondità massima dell'albero.\n",
        "\n",
        "Valori alti di questo iperparametri possono portare a un albero più complesso, che potrebbe essere in grado di catturare relazioni più complesse nei dati, ma potrebbe causare overfitting sui dati di addestramento, e quindi potrebbe non generalizzare bene su nuovi dati di test.\n",
        "\n",
        "Si cerca quindi una combinazione dei valori degli iperparametri per costruire un modello che sia in grado di catturare le relazioni nei dati senza sovradattarsi.\n",
        "\n",
        "Output dell'hyperparameter tuning:\n",
        "```\n",
        "numero figli:  2 \t profondità massima:  3\n",
        "\terror rate medio:  0.19483938915218538\n",
        "\n",
        "numero figli:  3 \t profondità massima:  4\n",
        "\terror rate medio:  0.1353343865192206\n",
        "\n",
        "numero figli:  4 \t profondità massima:  5\n",
        "\terror rate medio:  0.22011585044760398\n",
        "\n",
        "numero figli:  5 \t profondità massima:  6\n",
        "\terror rate medio:  0.2927856766719326\n",
        "\n",
        "parametri migliori: numero figli:  3 \t profondità massima:  4\n",
        "\n",
        "\n",
        "Accuracy: 0.8443396226415094\n",
        "Precision: 0.7920792079207921\n",
        "Recall: 0.8695652173913043\n",
        "F1-score: 0.8290155440414507\n",
        "\n",
        "```\n",
        "\n",
        "Con l'hyperparameter tuning ho provato alcune combinazioni di valori diversi per il numero massimo di figli di ciascun nodo e per la profondità massima dell'albero.\n",
        "\n",
        "Per ogni combinazione di valori degli iperparametri ho suddiviso il dataset_training prendendo un validation_set e un training_set. Ho allenato quindi il modello sul training_set e l'ho testato sul validation_set, e ripetuto il processo 9 volte su diversi training_set e validation_set, calcolando ogni volta l'error-rate.\n",
        "\n",
        "Ho poi calcolato l'error-rate medio ottenuto su tutti i test per ogni combinazione di valori degli iperparametri, e quindi alla fine ho potuto ricavare il migliore.\n",
        "\n",
        "\n",
        "Dall'analisi fatta si può concludere che la combinazione migliore di quelle provate per i valori degli iperparametri è quella con:\n",
        "*   numero di figli = 3\n",
        "*   profondità massima = 4\n",
        "\n",
        "per la quale si è trovato un error rate medio di 0.1353343865192206 .\n",
        "\n",
        "\n",
        "Ho infine allenato il modello sul dataset_training completo, testato sul dataset_test e stampato le metriche di valutazione riportate.\n",
        "\n",
        "Per migliorare ulteriormente i risultati, si potrebbe effettuare una random search sull'insieme dei valori possibili di tutti gli iperparametri, ed effettuare il tuning su questi valori finché si vuole."
      ]
    },
    {
      "cell_type": "markdown",
      "metadata": {
        "id": "_kDf131CqZ5y"
      },
      "source": [
        "\n",
        "\n",
        "# ------------------------------------------------------------------------------------------------------------------------------------------------------\n",
        "\n"
      ]
    },
    {
      "cell_type": "markdown",
      "metadata": {
        "id": "SQsR_njmHFca"
      },
      "source": [
        "# **LOGISTIC REGRESSION (CLASSIFICAZIONE)**"
      ]
    },
    {
      "cell_type": "markdown",
      "metadata": {
        "id": "9y0gHsHSLUb2"
      },
      "source": [
        "## Copia del dataset e mappatura variabili categoriche"
      ]
    },
    {
      "cell_type": "code",
      "execution_count": null,
      "metadata": {
        "colab": {
          "background_save": true
        },
        "id": "kuc6INqrH4kT"
      },
      "outputs": [],
      "source": [
        "# Copia profonda del dataset\n",
        "dataset_c = dataset.copy()\n",
        "\n",
        "\n",
        "# Trasformo le variabili categoriche in valori numerici utilizzabili dal modello\n",
        "# -------------------------------------------------------------------------------------------------------------------------Gender\n",
        "gender_mapping = {'Female': 0, 'Male': 1} #dizionario per mappare ogni categoria ad un valore intero\n",
        "# Usiamo il dizionario per sostituire le categorie con gli interi corrispondenti nel DataFrame\n",
        "dataset_c['Gender'] = dataset_c['Gender'].map(gender_mapping)\n",
        "\n",
        "# -------------------------------------------------------------------------------------------------------------------------family_history_with_overweight\n",
        "family_history_mapping = {'no': 0, 'yes': 1}\n",
        "dataset_c['family_history_with_overweight'] = dataset_c['family_history_with_overweight'].map(family_history_mapping)\n",
        "\n",
        "# -------------------------------------------------------------------------------------------------------------------------FAVC\n",
        "FAVC_mapping = {'no': 0, 'yes': 1}\n",
        "dataset_c['FAVC'] = dataset_c['FAVC'].map(FAVC_mapping)\n",
        "\n",
        "# -------------------------------------------------------------------------------------------------------------------------CAEC\n",
        "CAEC_mapping = {'no': 0, 'Sometimes': 1, 'Frequently': 2, 'Always': 3}\n",
        "dataset_c['CAEC'] = dataset_c['CAEC'].map(CAEC_mapping)\n",
        "\n",
        "# -------------------------------------------------------------------------------------------------------------------------SMOKE\n",
        "SMOKE_mapping = {'no': 0, 'yes': 1}\n",
        "dataset_c['SMOKE'] = dataset_c['SMOKE'].map(SMOKE_mapping)\n",
        "\n",
        "# -------------------------------------------------------------------------------------------------------------------------SCC\n",
        "SCC_mapping = {'no': 0, 'yes': 1}\n",
        "dataset_c['SCC'] = dataset_c['SCC'].map(SCC_mapping)\n",
        "\n",
        "# -------------------------------------------------------------------------------------------------------------------------CALC\n",
        "CALC_mapping = {'no': 0, 'Sometimes': 1, 'Frequently': 2, 'Always': 3}\n",
        "dataset_c['CALC'] = dataset_c['CALC'].map(CALC_mapping)\n",
        "\n",
        "# -------------------------------------------------------------------------------------------------------------------------MTRANS (one-hot encoding)\n",
        "MTRANS_mapping = {'Public_Transportation': [1, 0, 0, 0, 0],\n",
        "                   'Walking': [0, 1, 0, 0, 0],\n",
        "                   'Automobile': [0, 0, 1, 0, 0],\n",
        "                   'Motorbike': [0, 0, 0, 1, 0],\n",
        "                   'Bike': [0, 0, 0, 0, 1]}\n",
        "# Apply mapping to MTRANS column\n",
        "dataset_c['MTRANS_Public_Transportation'] = dataset_c['MTRANS'].apply(lambda x: MTRANS_mapping[x][0])\n",
        "dataset_c['MTRANS_Walking'] = dataset_c['MTRANS'].apply(lambda x: MTRANS_mapping[x][1])\n",
        "dataset_c['MTRANS_Automobile'] = dataset_c['MTRANS'].apply(lambda x: MTRANS_mapping[x][2])\n",
        "dataset_c['MTRANS_Motorbike'] = dataset_c['MTRANS'].apply(lambda x: MTRANS_mapping[x][3])\n",
        "dataset_c['MTRANS_Bike'] = dataset_c['MTRANS'].apply(lambda x: MTRANS_mapping[x][4])\n",
        "# elimino la colonna MTRANS\n",
        "dataset_c.drop('MTRANS', axis=1, inplace=True)\n",
        "# -------------------------------------------------------------------------------------------------------------------------NObeyesdad\n",
        "NObeyesdad_mapping = {'Insufficient_Weight': 0, 'Normal_Weight': 0, 'Overweight_Level_I': 0, 'Overweight_Level_II': 0, 'Obesity_Type_I': 1, 'Obesity_Type_II': 1, 'Obesity_Type_III': 1}\n",
        "dataset_c['NObeyesdad'] = dataset_c['NObeyesdad'].map(NObeyesdad_mapping)"
      ]
    },
    {
      "cell_type": "markdown",
      "metadata": {
        "id": "FL6IV50iLuyz"
      },
      "source": [
        "## Divisione del dataset in dataset_training e dataset_test"
      ]
    },
    {
      "cell_type": "code",
      "execution_count": null,
      "metadata": {
        "colab": {
          "background_save": true
        },
        "id": "F-kk9aY-LwbX"
      },
      "outputs": [],
      "source": [
        "dataset_c = dataset_c.sample(frac=1).reset_index(drop=True)   #rimescola casualmente le righe del dataset\n",
        "\n",
        "# splitting in training set e test set\n",
        "TRAIN_TEST_SPLIT_PERCENTAGE = 0.9\n",
        "dataset_training = dataset_c[:int(len(dataset_c) * TRAIN_TEST_SPLIT_PERCENTAGE)]\n",
        "dataset_test = dataset_c[int(len(dataset_c) * TRAIN_TEST_SPLIT_PERCENTAGE):]"
      ]
    },
    {
      "cell_type": "markdown",
      "metadata": {
        "id": "3CQOMHQPL1q4"
      },
      "source": [
        "## Implementazione"
      ]
    },
    {
      "cell_type": "code",
      "execution_count": null,
      "metadata": {
        "colab": {
          "background_save": true
        },
        "id": "VvnZ-SROl5rA"
      },
      "outputs": [],
      "source": [
        "# Variabile dipendente (obbiettivo)\n",
        "y_train = dataset_training['NObeyesdad']\n",
        "y_test = dataset_test['NObeyesdad']\n",
        "\n",
        "# Variabili indipendenti\n",
        "X_train = dataset_training.drop('NObeyesdad', axis=1)\n",
        "X_test = dataset_test.drop('NObeyesdad', axis=1)\n",
        "\n",
        "# Standardizzazione dei dati\n",
        "mean = X_train.mean()\n",
        "std = X_train.std()\n",
        "X_train = (X_train - mean) / std\n",
        "X_test = (X_test - mean) / std"
      ]
    },
    {
      "cell_type": "code",
      "execution_count": null,
      "metadata": {
        "colab": {
          "background_save": true
        },
        "id": "xT26wKyAL4YW",
        "outputId": "4fbf824f-56d4-4023-a8f1-27c4b4da4a30"
      },
      "outputs": [
        {
          "name": "stdout",
          "output_type": "stream",
          "text": [
            "Accuracy: 1.0\n",
            "Precision: 1.0\n",
            "Recall: 1.0\n",
            "F1-score: 1.0\n",
            "Confusion Matrix: [[112   0]\n",
            " [  0 100]]\n"
          ]
        }
      ],
      "source": [
        "\n",
        "def sigmoid(z):\n",
        "  return (1 / (1 + np.exp(-z)))\n",
        "\n",
        "# derivata della sigmoide\n",
        "def d_sigmoid(z):\n",
        "    return sigmoid(z) * (1 - sigmoid(z))\n",
        "\n",
        "# Funzione di gradiente\n",
        "def gradient(X, y, weight):\n",
        "    pred = sigmoid(np.dot(X, weight))\n",
        "    d = d_sigmoid(np.dot(X, weight))\n",
        "    e = y - pred\n",
        "\n",
        "    gradients = np.dot(X.T, e * d)\n",
        "\n",
        "    return gradients\n",
        "\n",
        "\n",
        "# Funzione di aggiornamento dei pesi\n",
        "def update_weight_loss(weight, learning_rate, gradient):\n",
        "    return weight + learning_rate * gradient\n",
        "\n",
        "\n",
        "\n",
        "# Funzione di costo L2 per la regressione lineare\n",
        "def cost_function(y, y_pred):\n",
        "    return ((y - y_pred)**2).mean() / 2\n",
        "\n",
        "\n",
        "\n",
        "# Funzione di previsione\n",
        "def predict(X, weight, threshold=0.5):\n",
        "    return sigmoid(np.dot(X, weight)) >= threshold\n",
        "\n",
        "\n",
        "\n",
        "def logistic_regression(X, y, test_data, num_iter, learning_rate, minibatch=False, num_batches=50):\n",
        "  # Inizializzazione dei pesi\n",
        "  weight = np.zeros(X.shape[1])\n",
        "\n",
        "  # metto i dataframe in degli array NumPy\n",
        "  X_train_values = X.values\n",
        "  y_train_values = y.values\n",
        "\n",
        "  #l = float('inf')    # variabile usata per conservare il valore di cost_function calcolata in una iterazione precedente del ciclo\n",
        "\n",
        "  # Ad ogni iterazione calcola le previsioni sui dati di addestramento, calcola il gradiente della funzione di costo e aggiorna i pesi.\n",
        "  for i in range(num_iter):\n",
        "    # rimescola casualmente le righe\n",
        "    indices = np.arange(X_train_values.shape[0])\n",
        "    np.random.shuffle(indices)\n",
        "    X_train_values = X_train_values[indices]\n",
        "    y_train_values = y_train_values[indices]\n",
        "\n",
        "    if (minibatch == False):    # usa tutto X_train\n",
        "      gradient_val = gradient(X_train_values, y_train_values, weight)\n",
        "      weight = update_weight_loss(weight, learning_rate, gradient_val)\n",
        "\n",
        "    else:                     # minibatch\n",
        "      batch_size = int(np.floor(X_train_values.shape[0] / num_batches))\n",
        "\n",
        "      for j in range(num_batches):\n",
        "        X_batch = X_train_values[j*batch_size:(j+1)*batch_size]\n",
        "        y_batch = y_train_values[j*batch_size:(j+1)*batch_size]\n",
        "\n",
        "        gradient_val = gradient(X_batch, y_batch, weight)\n",
        "        weight = update_weight_loss(weight, learning_rate, gradient_val)\n",
        "\n",
        "      if X_train_values.shape[0] % batch_size != 0:    # Se il numero di righe non è un multiplo di batch_size allora ci sarà un ultimo minibatch più piccolo\n",
        "        X_batch = X_train_values[num_batches*batch_size:]\n",
        "        y_batch = y_train_values[num_batches*batch_size:]\n",
        "\n",
        "        gradient_val = gradient(X_batch, y_batch, weight)\n",
        "        weight = update_weight_loss(weight, learning_rate, gradient_val)\n",
        "\n",
        "\n",
        "    #if (i % 5000 == 0):       # ogni 5'000 iterazioni\n",
        "      #print(\"iterazione: \", i)\n",
        "\n",
        "      #z = np.dot(X_train, weight)\n",
        "      #h = sigmoid(z)\n",
        "      #loss = cost_function(h, y_train)\n",
        "      #print(\"\\tloss: \", loss)\n",
        "\n",
        "      #if(abs(l - loss) <= 0.0001):\n",
        "      #  print(\"---------- convergenza raggiunta ----------\\n\")\n",
        "      #  break\n",
        "\n",
        "      #l = loss\n",
        "\n",
        "  # Calcolo delle previsioni sul test set\n",
        "  return predict(test_data, weight)\n",
        "\n",
        "\n",
        "# ------------------------------------------------------------------------------------------------------------------------------------\n",
        "\n",
        "\n",
        "num_iter = 5000     # numero di iterazioni\n",
        "learning_rate = 0.1      # tasso di apprendimento\n",
        "minibatch = True      # minibatch\n",
        "num_batches = 10       # numero di minibatch\n",
        "\n",
        "predictions = logistic_regression(X_train, y_train, X_test, num_iter, learning_rate, minibatch, num_batches)\n",
        "\n",
        "\n",
        "# metriche di valutazione\n",
        "from sklearn.metrics import accuracy_score, precision_score, recall_score, f1_score, confusion_matrix\n",
        "print(\"Accuracy:\", accuracy_score(y_test, predictions))\n",
        "print(\"Precision:\", precision_score(y_test, predictions))\n",
        "print(\"Recall:\", recall_score(y_test, predictions))\n",
        "print(\"F1-score:\", f1_score(y_test, predictions))\n",
        "print(\"Confusion Matrix:\", confusion_matrix(y_test, predictions))"
      ]
    },
    {
      "cell_type": "markdown",
      "metadata": {
        "id": "CbeEY7ycr9ZM"
      },
      "source": [
        "Implementazione con sklearn (per confronto)"
      ]
    },
    {
      "cell_type": "code",
      "execution_count": null,
      "metadata": {
        "colab": {
          "background_save": true
        },
        "id": "uiMi1AN2r-Ds",
        "outputId": "a9ff2af2-21ea-4be2-9690-ef3cfb34bd08"
      },
      "outputs": [
        {
          "name": "stdout",
          "output_type": "stream",
          "text": [
            "Accuracy: 1.0\n",
            "Precision: 1.0\n",
            "Recall: 1.0\n",
            "F1-score: 1.0\n",
            "Confusion Matrix: [[112   0]\n",
            " [  0 100]]\n"
          ]
        }
      ],
      "source": [
        "from sklearn.linear_model import LogisticRegression\n",
        "from sklearn.metrics import accuracy_score, precision_score, recall_score, f1_score, confusion_matrix\n",
        "\n",
        "lr = LogisticRegression(C=1000.0, random_state=0, max_iter=100000)\n",
        "lr.fit(X_train, y_train)\n",
        "\n",
        "\n",
        "predictions = lr.predict(X_test)\n",
        "\n",
        "print(\"Accuracy:\", accuracy_score(y_test, predictions))\n",
        "print(\"Precision:\", precision_score(y_test, predictions))\n",
        "print(\"Recall:\", recall_score(y_test, predictions))\n",
        "print(\"F1-score:\", f1_score(y_test, predictions))\n",
        "print(\"Confusion Matrix:\", confusion_matrix(y_test, predictions))"
      ]
    },
    {
      "cell_type": "markdown",
      "metadata": {
        "id": "m28DBeiIVCUC"
      },
      "source": [
        "## Hyperparameter tuning"
      ]
    },
    {
      "cell_type": "code",
      "execution_count": null,
      "metadata": {
        "colab": {
          "background_save": true
        },
        "id": "sDGorocmVGIL",
        "outputId": "856f16ca-bd0f-4e19-a0a7-35adb7223daa"
      },
      "outputs": [
        {
          "name": "stdout",
          "output_type": "stream",
          "text": [
            "numero iterazioni:  100 \tlearning rate:  0.0001 \tnumero di batch:  7\n",
            "\terror rate medio:  0.1253291205897841 \n",
            "\n",
            "numero iterazioni:  1000 \tlearning rate:  0.001 \tnumero di batch:  8\n",
            "\terror rate medio:  0.005792522380200116 \n",
            "\n",
            "numero iterazioni:  5000 \tlearning rate:  0.01 \tnumero di batch:  9\n",
            "\terror rate medio:  0.004212743549236447 \n",
            "\n",
            "numero iterazioni:  10000 \tlearning rate:  0.1 \tnumero di batch:  10\n",
            "\terror rate medio:  0.006845708267509225 \n",
            "\n",
            "parametri migliori: numero iterazioni:  5000 \t learning rate:  0.01 \t numero di batch:  9\n",
            "\n",
            "\n",
            "Accuracy: 1.0\n",
            "Precision: 1.0\n",
            "Recall: 1.0\n",
            "F1-score: 1.0\n",
            "Confusion Matrix: [[112   0]\n",
            " [  0 100]]\n"
          ]
        }
      ],
      "source": [
        "from sklearn.metrics import accuracy_score\n",
        "\n",
        "def cross_validation(data, num_iter, learning_rate, num_batches):\n",
        "  error_rate = []\n",
        "  k = 9\n",
        "  size = int(np.floor(data.shape[0] / k))\n",
        "\n",
        "  for i in range(k):\n",
        "    #print(\"iterazione: \", i)\n",
        "    # prendo validation set e train set\n",
        "    validation_set = data.iloc[size*i:size*(i+1)]\n",
        "    train_set = data.drop(validation_set.index)\n",
        "    validation_set = validation_set.reset_index(drop=True)\n",
        "    train_set = train_set.reset_index(drop=True)\n",
        "\n",
        "    X_tr = train_set.drop('NObeyesdad', axis=1)\n",
        "    y_tr = train_set['NObeyesdad']\n",
        "    X_te = validation_set.drop('NObeyesdad', axis=1)\n",
        "    y_te = validation_set['NObeyesdad']\n",
        "\n",
        "    # Standardizzazione dei dati\n",
        "    mean = X_tr.mean()\n",
        "    std = X_tr.std()\n",
        "    X_tr = (X_tr - mean) / std\n",
        "    X_te = (X_te - mean) / std\n",
        "\n",
        "    # esecuzione algoritmo\n",
        "    y_pred = logistic_regression(X_tr, y_tr, X_te, num_iter, learning_rate, True, num_batches)\n",
        "\n",
        "    # errore\n",
        "    e = 1 - accuracy_score(y_te, y_pred)\n",
        "    error_rate.append(e)\n",
        "\n",
        "\n",
        "  if data.shape[0] % k != 0:\n",
        "    validation_set = data.iloc[size*k:]\n",
        "    train_set = data.drop(validation_set.index)\n",
        "    validation_set = validation_set.reset_index(drop=True)\n",
        "    train_set = train_set.reset_index(drop=True)\n",
        "\n",
        "    X_tr = train_set.drop('NObeyesdad', axis=1)\n",
        "    y_tr = train_set['NObeyesdad']\n",
        "    X_te = validation_set.drop('NObeyesdad', axis=1)\n",
        "    y_te = validation_set['NObeyesdad']\n",
        "\n",
        "    # Standardizzazione dei dati\n",
        "    mean = X_tr.mean()\n",
        "    std = X_tr.std()\n",
        "    X_tr = (X_tr - mean) / std\n",
        "    X_te = (X_te - mean) / std\n",
        "\n",
        "    y_pred = logistic_regression(X_tr, y_tr, X_te, num_iter, learning_rate, True, num_batches)\n",
        "\n",
        "    e = 1 - accuracy_score(y_te, y_pred)\n",
        "    error_rate.append(e)\n",
        "\n",
        "\n",
        "  return np.mean(error_rate)\n",
        "\n",
        "\n",
        "\n",
        "\n",
        "error = []\n",
        "\n",
        "for i, j, k in zip([100, 1000, 5000, 10000], [0.0001, 0.001, 0.01, 0.1], range(7, 11)):    # ciclo sui valori degli iperparametri\n",
        "  print(\"numero iterazioni: \", i, \"\\tlearning rate: \", j, \"\\tnumero di batch: \", k)\n",
        "  error.append([[i, j, k], cross_validation(dataset_training, num_iter=i, learning_rate=j, num_batches=k)])\n",
        "  print(\"\\terror rate medio: \", error[-1][1], \"\\n\")\n",
        "\n",
        "\n",
        "best = min(error, key=lambda x: x[1])\n",
        "best_num_iter = best[0][0]\n",
        "best_learning_rate = best[0][1]\n",
        "best_num_batches = best[0][2]\n",
        "print(\"parametri migliori: numero iterazioni: \", best_num_iter, \"\\t learning rate: \", best_learning_rate, \"\\t numero di batch: \", best_num_batches)\n",
        "\n",
        "\n",
        "y_pred = logistic_regression(X_train, y_train, X_test, best_num_iter, best_learning_rate, True, best_num_batches)\n",
        "\n",
        "print(\"\\n\")\n",
        "# metriche di valutazione\n",
        "from sklearn.metrics import accuracy_score, precision_score, recall_score, f1_score, confusion_matrix\n",
        "print(\"Accuracy:\", accuracy_score(y_test, y_pred))\n",
        "print(\"Precision:\", precision_score(y_test, y_pred))\n",
        "print(\"Recall:\", recall_score(y_test, y_pred))\n",
        "print(\"F1-score:\", f1_score(y_test, y_pred))\n",
        "print(\"Confusion Matrix:\", confusion_matrix(y_test, y_pred))"
      ]
    },
    {
      "cell_type": "markdown",
      "metadata": {
        "id": "qkKJ8jyJq8Y7"
      },
      "source": [
        "**CONSIDERAZIONI:**\n",
        "\n",
        "---\n",
        "\n",
        "Gli iperparametri scelti per l'algoritmo di classificazione con Logistic Regression sono:\n",
        "*   numero di iterazioni: numero di volte che l'algoritmo viene eseguito sui dati di addestramento.\n",
        "*   learning rate: step size, controlla la velocità con cui l'algoritmo apprende. Un learning rate troppo alto può causare oscillazioni o divergenze.\n",
        "*   numero di batch: avendo usato la tecnica del minibatch, questo iperparametro controlla il numero di sottoinsiemi in cui viene diviso il dataset_training, sui quali viene invocato l'algoritmo ad ogni iterazione. Controlla quindi anche il numero di sample di addestramento che l'algoritmo utilizza per ogni aggiornamento dei pesi.\n",
        "\n",
        "\n",
        "Output dell'hyperparameter tuning:\n",
        "```\n",
        "numero iterazioni:  100 \tlearning rate:  0.0001 \tnumero di batch:  7\n",
        "\terror rate medio:  0.12269615587151132\n",
        "\n",
        "numero iterazioni:  1000 \tlearning rate:  0.001 \tnumero di batch:  8\n",
        "\terror rate medio:  0.005265929436545568\n",
        "\n",
        "numero iterazioni:  5000 \tlearning rate:  0.01 \tnumero di batch:  9\n",
        "\terror rate medio:  0.005792522380200128\n",
        "\n",
        "numero iterazioni:  10000 \tlearning rate:  0.1 \tnumero di batch:  10\n",
        "\terror rate medio:  0.004739336492891007\n",
        "\n",
        "parametri migliori: numero iterazioni:  10000 \t learning rate:  0.1 \t numero di batch:  10\n",
        "\n",
        "\n",
        "Accuracy: 0.9811320754716981\n",
        "Precision: 0.979381443298969\n",
        "Recall: 0.979381443298969\n",
        "F1-score: 0.979381443298969\n",
        "Confusion Matrix: [[113   2]\n",
        " [  2  95]]\n",
        "\n",
        "```\n",
        "\n",
        "Con l'hyperparameter tuning ho provato alcune combinazioni di valori diversi per il numero di iterazioni dell'algoritmo, per il valore del learning rate e per il numero di batch usati nel minibatch.\n",
        "\n",
        "Per ogni combinazione di valori degli iperparametri ho suddiviso il dataset_training prendendo un validation_set e un training_set. Ho allenato quindi il modello sul training_set e l'ho testato sul validation_set, e ripetuto il processo 9 volte su diversi training_set e validation_set, calcolando ogni volta l'error rate.\n",
        "\n",
        "Ho poi calcolato l'error-rate medio ottenuto su tutti i test per ogni combinazione di valori degli iperparametri, e quindi alla fine ho potuto ricavare il migliore.\n",
        "\n",
        "Dall'analisi fatta si può concludere che la combinazione migliore di quelle provate per i valori degli iperparametri è quella con:\n",
        "*   numero di iterazioni = 10000\n",
        "*   learning rate = 0.1\n",
        "*   numero di batch = 10\n",
        "\n",
        "per la quale si è trovato un error rate medio di 0.004739336492891007 .\n",
        "\n",
        "Ho infine allenato il modello sul dataset_training completo e stampato le metriche di valutazione riportate.\n",
        "\n",
        "Per migliorare ulteriormente i risultati, si potrebbe effettuare una random search sull'insieme dei valori possibili di tutti gli iperparametri, ed effettuare il tuning su questi valori finché si vuole."
      ]
    },
    {
      "cell_type": "markdown",
      "metadata": {
        "id": "zMMjywuuqzYA"
      },
      "source": [
        "\n",
        "\n",
        "# ------------------------------------------------------------------------------------------------------------------------------------------------------\n",
        "\n"
      ]
    },
    {
      "cell_type": "markdown",
      "metadata": {
        "id": "9KwiLgX6ULrd"
      },
      "source": [
        "# **K-NEAREST NEIGHBORS KNN (CLASSIFICAZIONE)**"
      ]
    },
    {
      "cell_type": "markdown",
      "metadata": {
        "id": "eRNlOZKgUcCi"
      },
      "source": [
        "## Copia del dataset e mappatura variabili categoriche"
      ]
    },
    {
      "cell_type": "code",
      "execution_count": null,
      "metadata": {
        "colab": {
          "background_save": true
        },
        "id": "QXzj-Ti_UcCk"
      },
      "outputs": [],
      "source": [
        "# Copia profonda del dataset\n",
        "dataset_c = dataset.copy()\n",
        "\n",
        "\n",
        "# Trasformo le variabili categoriche in valori numerici utilizzabili dal modello\n",
        "# -------------------------------------------------------------------------------------------------------------------------Gender\n",
        "gender_mapping = {'Female': 0, 'Male': 1} #dizionario per mappare ogni categoria ad un valore intero\n",
        "# Usiamo il dizionario per sostituire le categorie con gli interi corrispondenti nel DataFrame\n",
        "dataset_c['Gender'] = dataset_c['Gender'].map(gender_mapping)\n",
        "\n",
        "# -------------------------------------------------------------------------------------------------------------------------family_history_with_overweight\n",
        "family_history_mapping = {'no': 0, 'yes': 1}\n",
        "dataset_c['family_history_with_overweight'] = dataset_c['family_history_with_overweight'].map(family_history_mapping)\n",
        "\n",
        "# -------------------------------------------------------------------------------------------------------------------------FAVC\n",
        "FAVC_mapping = {'no': 0, 'yes': 1}\n",
        "dataset_c['FAVC'] = dataset_c['FAVC'].map(FAVC_mapping)\n",
        "\n",
        "# -------------------------------------------------------------------------------------------------------------------------CAEC\n",
        "CAEC_mapping = {'no': 0, 'Sometimes': 1, 'Frequently': 2, 'Always': 3}\n",
        "dataset_c['CAEC'] = dataset_c['CAEC'].map(CAEC_mapping)\n",
        "\n",
        "# -------------------------------------------------------------------------------------------------------------------------SMOKE\n",
        "SMOKE_mapping = {'no': 0, 'yes': 1}\n",
        "dataset_c['SMOKE'] = dataset_c['SMOKE'].map(SMOKE_mapping)\n",
        "\n",
        "# -------------------------------------------------------------------------------------------------------------------------SCC\n",
        "SCC_mapping = {'no': 0, 'yes': 1}\n",
        "dataset_c['SCC'] = dataset_c['SCC'].map(SCC_mapping)\n",
        "\n",
        "# -------------------------------------------------------------------------------------------------------------------------CALC\n",
        "CALC_mapping = {'no': 0, 'Sometimes': 1, 'Frequently': 2, 'Always': 3}\n",
        "dataset_c['CALC'] = dataset_c['CALC'].map(CALC_mapping)\n",
        "\n",
        "# -------------------------------------------------------------------------------------------------------------------------MTRANS (one-hot encoding)\n",
        "MTRANS_mapping = {'Public_Transportation': [1, 0, 0, 0, 0],\n",
        "                   'Walking': [0, 1, 0, 0, 0],\n",
        "                   'Automobile': [0, 0, 1, 0, 0],\n",
        "                   'Motorbike': [0, 0, 0, 1, 0],\n",
        "                   'Bike': [0, 0, 0, 0, 1]}\n",
        "# Apply mapping to MTRANS column\n",
        "dataset_c['MTRANS_Public_Transportation'] = dataset_c['MTRANS'].apply(lambda x: MTRANS_mapping[x][0])\n",
        "dataset_c['MTRANS_Walking'] = dataset_c['MTRANS'].apply(lambda x: MTRANS_mapping[x][1])\n",
        "dataset_c['MTRANS_Automobile'] = dataset_c['MTRANS'].apply(lambda x: MTRANS_mapping[x][2])\n",
        "dataset_c['MTRANS_Motorbike'] = dataset_c['MTRANS'].apply(lambda x: MTRANS_mapping[x][3])\n",
        "dataset_c['MTRANS_Bike'] = dataset_c['MTRANS'].apply(lambda x: MTRANS_mapping[x][4])\n",
        "# elimino la colonna MTRANS\n",
        "dataset_c.drop('MTRANS', axis=1, inplace=True)\n",
        "# -------------------------------------------------------------------------------------------------------------------------NObeyesdad\n",
        "NObeyesdad_mapping = {'Insufficient_Weight': 0, 'Normal_Weight': 0, 'Overweight_Level_I': 0, 'Overweight_Level_II': 0, 'Obesity_Type_I': 1, 'Obesity_Type_II': 1, 'Obesity_Type_III': 1}\n",
        "dataset_c['NObeyesdad'] = dataset_c['NObeyesdad'].map(NObeyesdad_mapping)"
      ]
    },
    {
      "cell_type": "markdown",
      "metadata": {
        "id": "s34ThndNUcCn"
      },
      "source": [
        "## Divisione del dataset in dataset_training e dataset_test"
      ]
    },
    {
      "cell_type": "code",
      "execution_count": null,
      "metadata": {
        "colab": {
          "background_save": true
        },
        "id": "2eAtWizJUcCo"
      },
      "outputs": [],
      "source": [
        "dataset_c = dataset_c.sample(frac=1).reset_index(drop=True)   #rimescola casualmente le righe del dataset\n",
        "\n",
        "# splitting in training set e test set\n",
        "TRAIN_TEST_SPLIT_PERCENTAGE = 0.9\n",
        "dataset_training = dataset_c[:int(len(dataset_c) * TRAIN_TEST_SPLIT_PERCENTAGE)]\n",
        "dataset_test = dataset_c[int(len(dataset_c) * TRAIN_TEST_SPLIT_PERCENTAGE):]"
      ]
    },
    {
      "cell_type": "markdown",
      "metadata": {
        "id": "AcGAzH4B0lIv"
      },
      "source": [
        "## Implementazione"
      ]
    },
    {
      "cell_type": "code",
      "execution_count": null,
      "metadata": {
        "colab": {
          "background_save": true
        },
        "id": "Z4wQmjQY0777"
      },
      "outputs": [],
      "source": [
        "# Variabile dipendente (obbiettivo)\n",
        "y_train = dataset_training['NObeyesdad']\n",
        "y_test = dataset_test['NObeyesdad']\n",
        "\n",
        "# Variabili indipendenti\n",
        "X_train = dataset_training.drop('NObeyesdad', axis=1)\n",
        "X_test = dataset_test.drop('NObeyesdad', axis=1)\n",
        "\n",
        "# Standardizzazione dei dati\n",
        "mean = X_train.mean()   # media (di ogni colonna in X_train)\n",
        "std = X_train.std()     # deviazione standard\n",
        "X_train = (X_train - mean) / std      # in questo modo ogni colonna ha media 0 e deviazione standard 1\n",
        "X_test = (X_test - mean) / std        # fa lo stesso su X_test usando media e deviazione standard calcolati su X_train"
      ]
    },
    {
      "cell_type": "code",
      "execution_count": null,
      "metadata": {
        "colab": {
          "background_save": true
        },
        "id": "ZCPoipO60opd",
        "outputId": "d68c53a8-1d9d-4474-9128-c0f7802be6d3"
      },
      "outputs": [
        {
          "name": "stdout",
          "output_type": "stream",
          "text": [
            "Accuracy: 0.9575471698113207\n",
            "Precision: 0.941747572815534\n",
            "Recall: 0.97\n",
            "F1-score: 0.9556650246305418\n",
            "Confusion Matrix: [[106   6]\n",
            " [  3  97]]\n"
          ]
        }
      ],
      "source": [
        "def manhattan_distance(xj, xq):\n",
        "  return np.sum(abs(xj-xq))\n",
        "\n",
        "#def euclidean_distance(xj, xq):\n",
        "#    distance = np.sum((xj - xq)**2)\n",
        "#    return np.sqrt(distance)\n",
        "\n",
        "def get_neighbors(X, Y, sample, num_neighbors):\n",
        "    distances = list()    # lista di tutti i nodi in X con le relative distanze dal sample e valore di obesità\n",
        "    for x_t, y_t in zip(X, Y):\n",
        "        dist = manhattan_distance(sample, x_t)\n",
        "        distances.append((x_t, dist, y_t))\n",
        "\n",
        "    distances.sort(key=lambda tup: tup[1])    # ordina distances in base alla distanza dal sample (secondo elemento di ogni tupla)\n",
        "\n",
        "    neighbors = list()    # lista dei neighbors\n",
        "    for i in range(num_neighbors):\n",
        "        neighbors.append(distances[i][2])   # aggiunge a neighbors il terzo elemento dell'i-esima tupla (il valore di obesità)\n",
        "\n",
        "    return neighbors\n",
        "\n",
        "\n",
        "# calcola la prediction per il singolo sample\n",
        "def predict_classification(X, Y, sample, num_neighbors):\n",
        "    neighbors = get_neighbors(X, Y, sample, num_neighbors)\n",
        "    prediction = max(set(neighbors), key=neighbors.count)   # classe più comune fra i neighbors\n",
        "    return prediction\n",
        "\n",
        "\n",
        "def k_nearest_neighbor(X, y, test_data, num_neighbors):\n",
        "  predictions = []\n",
        "  # calcola la prediction per ogni sample nel dataset\n",
        "  for sample in test_data.values:\n",
        "    pred = predict_classification(X.values, y.values, sample, num_neighbors)\n",
        "    predictions.append(pred)\n",
        "\n",
        "  return predictions\n",
        "\n",
        "\n",
        "num_neighbors = 5\n",
        "y_pred = k_nearest_neighbor(X_train, y_train, X_test, num_neighbors)\n",
        "\n",
        "# metriche di valutazione\n",
        "from sklearn.metrics import accuracy_score, precision_score, recall_score, f1_score, confusion_matrix\n",
        "print(\"Accuracy:\", accuracy_score(y_test, y_pred))\n",
        "print(\"Precision:\", precision_score(y_test, y_pred))\n",
        "print(\"Recall:\", recall_score(y_test, y_pred))\n",
        "print(\"F1-score:\", f1_score(y_test, y_pred))\n",
        "print(\"Confusion Matrix:\", confusion_matrix(y_test, y_pred))"
      ]
    },
    {
      "cell_type": "markdown",
      "metadata": {
        "id": "BE_nPwbuETkM"
      },
      "source": [
        "## Hyperparameter tuning"
      ]
    },
    {
      "cell_type": "code",
      "execution_count": null,
      "metadata": {
        "colab": {
          "background_save": true
        },
        "id": "WGf4fqIWEg3P",
        "outputId": "387a0520-3440-487b-d36e-1934b7c1fd50"
      },
      "outputs": [
        {
          "name": "stdout",
          "output_type": "stream",
          "text": [
            "numero neighbors:  3\n",
            "\terror rate medio:  0.03580832016850973 \n",
            "\n",
            "numero neighbors:  6\n",
            "\terror rate medio:  0.0410742496050553 \n",
            "\n",
            "numero neighbors:  9\n",
            "\terror rate medio:  0.050026329647182725 \n",
            "\n",
            "numero neighbors:  12\n",
            "\terror rate medio:  0.04634017904160083 \n",
            "\n",
            "numero neighbors:  15\n",
            "\terror rate medio:  0.05897840968931018 \n",
            "\n",
            "numero neighbors:  18\n",
            "\terror rate medio:  0.056345444971037405 \n",
            "\n",
            "numero neighbors:  21\n",
            "\terror rate medio:  0.06424433912585573 \n",
            "\n",
            "\n",
            "Parametri migliori: numero neighbors:  3\n",
            "\n",
            "\n",
            "Accuracy: 0.9622641509433962\n",
            "Precision: 0.9509803921568627\n",
            "Recall: 0.97\n",
            "F1-score: 0.9603960396039604\n",
            "Confusion Matrix: [[107   5]\n",
            " [  3  97]]\n"
          ]
        }
      ],
      "source": [
        "from sklearn.metrics import accuracy_score\n",
        "\n",
        "def cross_validation(data, num_neighbors):\n",
        "  error_rate = []\n",
        "  k = 9\n",
        "  size = int(np.floor(data.shape[0] / k))\n",
        "\n",
        "  for i in range(k):\n",
        "    #print(\"iterazione: \", i)\n",
        "    # prendo validation set e train set\n",
        "    validation_set = data.iloc[size*i:size*(i+1)]\n",
        "    train_set = data.drop(validation_set.index)\n",
        "    validation_set = validation_set.reset_index(drop=True)\n",
        "    train_set = train_set.reset_index(drop=True)\n",
        "\n",
        "    X_tr = train_set.drop('NObeyesdad', axis=1)\n",
        "    y_tr = train_set['NObeyesdad']\n",
        "    X_te = validation_set.drop('NObeyesdad', axis=1)\n",
        "    y_te = validation_set['NObeyesdad']\n",
        "\n",
        "    # Standardizzazione dei dati\n",
        "    mean = X_tr.mean()\n",
        "    std = X_tr.std()\n",
        "    X_tr = (X_tr - mean) / std\n",
        "    X_te = (X_te - mean) / std\n",
        "\n",
        "    # esecuzione algoritmo\n",
        "    y_pred = k_nearest_neighbor(X_tr, y_tr, X_te, num_neighbors)\n",
        "\n",
        "    # errore\n",
        "    e = 1 - accuracy_score(y_te, y_pred)\n",
        "    error_rate.append(e)\n",
        "\n",
        "\n",
        "  if data.shape[0] % k != 0:\n",
        "    validation_set = data.iloc[size*k:]\n",
        "    train_set = data.drop(validation_set.index)\n",
        "    validation_set = validation_set.reset_index(drop=True)\n",
        "    train_set = train_set.reset_index(drop=True)\n",
        "\n",
        "    X_tr = train_set.drop('NObeyesdad', axis=1)\n",
        "    y_tr = train_set['NObeyesdad']\n",
        "    X_te = validation_set.drop('NObeyesdad', axis=1)\n",
        "    y_te = validation_set['NObeyesdad']\n",
        "\n",
        "    # Standardizzazione dei dati\n",
        "    mean = X_tr.mean()\n",
        "    std = X_tr.std()\n",
        "    X_tr = (X_tr - mean) / std\n",
        "    X_te = (X_te - mean) / std\n",
        "\n",
        "    y_pred = k_nearest_neighbor(X_tr, y_tr, X_te, num_neighbors)\n",
        "\n",
        "    e = 1 - accuracy_score(y_te, y_pred)\n",
        "    error_rate.append(e)\n",
        "\n",
        "\n",
        "  return np.mean(error_rate)\n",
        "\n",
        "\n",
        "\n",
        "\n",
        "error = []\n",
        "\n",
        "for k in [3, 6, 9, 12, 15, 18, 21]:    # ciclo sui valori degli iperparametri\n",
        "  print(\"numero neighbors: \", k)\n",
        "  error.append([k, cross_validation(dataset_training, num_neighbors=k)])\n",
        "  print(\"\\terror rate medio: \", error[-1][1], \"\\n\")\n",
        "\n",
        "\n",
        "best = min(error, key=lambda x: x[1])\n",
        "best_num_neighbors = best[0]\n",
        "print(\"\\nParametri migliori: numero neighbors: \", best_num_neighbors)\n",
        "\n",
        "\n",
        "y_pred = k_nearest_neighbor(X_train, y_train, X_test, best_num_neighbors)\n",
        "\n",
        "print(\"\\n\")\n",
        "# metriche di valutazione\n",
        "from sklearn.metrics import accuracy_score, precision_score, recall_score, f1_score, confusion_matrix\n",
        "print(\"Accuracy:\", accuracy_score(y_test, y_pred))\n",
        "print(\"Precision:\", precision_score(y_test, y_pred))\n",
        "print(\"Recall:\", recall_score(y_test, y_pred))\n",
        "print(\"F1-score:\", f1_score(y_test, y_pred))\n",
        "print(\"Confusion Matrix:\", confusion_matrix(y_test, y_pred))"
      ]
    },
    {
      "cell_type": "markdown",
      "metadata": {
        "id": "QYxwCBnlIMa1"
      },
      "source": [
        "**CONSIDERAZIONI:**\n",
        "\n",
        "---\n",
        "\n",
        "\n",
        "L'iperparametro dell'algoritmo di classificazione k-nearest neighbor è il numero di neighbors, che controlla il numero di vicini più prossimi che l'algoritmo considera quando fa una previsione.\n",
        "Un valore troppo basso potrebbe portare a overfitting.\n",
        "\n",
        "Output dell'hyperparameter tuning:\n",
        "```\n",
        "numero neighbors:  3\n",
        "\terror rate medio:  0.04002106371774618\n",
        "\n",
        "numero neighbors:  6\n",
        "\terror rate medio:  0.04370721432332809\n",
        "\n",
        "numero neighbors:  9\n",
        "\terror rate medio:  0.051079515534491825\n",
        "\n",
        "numero neighbors:  12\n",
        "\terror rate medio:  0.05476566614007372\n",
        "\n",
        "numero neighbors:  15\n",
        "\terror rate medio:  0.06371774618220115\n",
        "\n",
        "numero neighbors:  18\n",
        "\terror rate medio:  0.06108478146392837\n",
        "\n",
        "numero neighbors:  21\n",
        "\terror rate medio:  0.0763559768299105\n",
        "\n",
        "\n",
        "Parametri migliori: numero neighbors:  3\n",
        "\n",
        "\n",
        "Accuracy: 0.9764150943396226\n",
        "Precision: 0.9587628865979382\n",
        "Recall: 0.9893617021276596\n",
        "F1-score: 0.9738219895287958\n",
        "Confusion Matrix: [[114   4]\n",
        " [  1  93]]\n",
        "```\n",
        "\n",
        "Con l'hyperparameter tuning ho provato alcuni valori diversi per il numero di vicini che si vanno a considerare nell'algoritmo.\n",
        "\n",
        "Per ogni valore diverso dell'iperparametro ho suddiviso il dataset_training prendendo un validation_set e un training_set. Ho allenato quindi il modello sul training_set e l'ho testato sul validation_set, e ripetuto il processo 9 volte su diversi training_set e validation_set, calcolando ogni volta l'error-rate.\n",
        "\n",
        "Ho poi calcolato l'error-rate medio ottenuto su tutti i test per ogni valore dell'iperparametro, e quindi alla fine ho potuto ricavare il migliore.\n",
        "\n",
        "Dall'analisi fatta si può concludere che il valore migliore di quelli provati è:\n",
        "*   numero di vicini = 3\n",
        "\n",
        "per il quale si è trovato un error rate medio di 0.04002106371774618 .\n",
        "\n",
        "Ho quindi allenato il modello sul dataset_training completo e stampato le metriche di valutazione riportate.\n",
        "\n",
        "Per migliorare ulteriormente i risultati, si potrebbe effettuare una random search sull'insieme dei valori possibili che può assumere il numero di vicini, ed effettuare il tuning su questi valori finché si vuole."
      ]
    },
    {
      "cell_type": "markdown",
      "metadata": {
        "id": "HNjWYpzbq26e"
      },
      "source": [
        "\n",
        "\n",
        "# ------------------------------------------------------------------------------------------------------------------------------------------------------\n",
        "\n"
      ]
    },
    {
      "cell_type": "markdown",
      "metadata": {
        "id": "hD29uJ7ppxZv"
      },
      "source": [
        "# **NEURAL NETWORK (REGRESSIONE)**"
      ]
    },
    {
      "cell_type": "markdown",
      "metadata": {
        "id": "MaLGRkXfp9Tg"
      },
      "source": [
        "## Copia del dataset e mappatura variabili categoriche"
      ]
    },
    {
      "cell_type": "code",
      "execution_count": null,
      "metadata": {
        "colab": {
          "background_save": true
        },
        "id": "IdoI5r2Jq--r"
      },
      "outputs": [],
      "source": [
        "# Copia profonda del dataset\n",
        "dataset_c = dataset.copy()\n",
        "\n",
        "\n",
        "# Trasformo le variabili categoriche in valori numerici utilizzabili dal modello\n",
        "# -------------------------------------------------------------------------------------------------------------------------Gender\n",
        "gender_mapping = {'Female': 0, 'Male': 1} #dizionario per mappare ogni categoria ad un valore intero\n",
        "# Usiamo il dizionario per sostituire le categorie con gli interi corrispondenti nel DataFrame\n",
        "dataset_c['Gender'] = dataset_c['Gender'].map(gender_mapping)\n",
        "\n",
        "# -------------------------------------------------------------------------------------------------------------------------family_history_with_overweight\n",
        "family_history_mapping = {'no': 0, 'yes': 1}\n",
        "dataset_c['family_history_with_overweight'] = dataset_c['family_history_with_overweight'].map(family_history_mapping)\n",
        "\n",
        "# -------------------------------------------------------------------------------------------------------------------------FAVC\n",
        "FAVC_mapping = {'no': 0, 'yes': 1}\n",
        "dataset_c['FAVC'] = dataset_c['FAVC'].map(FAVC_mapping)\n",
        "\n",
        "# -------------------------------------------------------------------------------------------------------------------------CAEC\n",
        "CAEC_mapping = {'no': 0, 'Sometimes': 1, 'Frequently': 2, 'Always': 3}\n",
        "dataset_c['CAEC'] = dataset_c['CAEC'].map(CAEC_mapping)\n",
        "\n",
        "# -------------------------------------------------------------------------------------------------------------------------SMOKE\n",
        "SMOKE_mapping = {'no': 0, 'yes': 1}\n",
        "dataset_c['SMOKE'] = dataset_c['SMOKE'].map(SMOKE_mapping)\n",
        "\n",
        "# -------------------------------------------------------------------------------------------------------------------------SCC\n",
        "SCC_mapping = {'no': 0, 'yes': 1}\n",
        "dataset_c['SCC'] = dataset_c['SCC'].map(SCC_mapping)\n",
        "\n",
        "# -------------------------------------------------------------------------------------------------------------------------CALC\n",
        "CALC_mapping = {'no': 0, 'Sometimes': 1, 'Frequently': 2, 'Always': 3}\n",
        "dataset_c['CALC'] = dataset_c['CALC'].map(CALC_mapping)\n",
        "\n",
        "# -------------------------------------------------------------------------------------------------------------------------MTRANS (one-hot encoding)\n",
        "MTRANS_mapping = {'Public_Transportation': [1, 0, 0, 0, 0],\n",
        "                   'Walking': [0, 1, 0, 0, 0],\n",
        "                   'Automobile': [0, 0, 1, 0, 0],\n",
        "                   'Motorbike': [0, 0, 0, 1, 0],\n",
        "                   'Bike': [0, 0, 0, 0, 1]}\n",
        "# Apply mapping to MTRANS column\n",
        "dataset_c['MTRANS_Public_Transportation'] = dataset_c['MTRANS'].apply(lambda x: MTRANS_mapping[x][0])\n",
        "dataset_c['MTRANS_Walking'] = dataset_c['MTRANS'].apply(lambda x: MTRANS_mapping[x][1])\n",
        "dataset_c['MTRANS_Automobile'] = dataset_c['MTRANS'].apply(lambda x: MTRANS_mapping[x][2])\n",
        "dataset_c['MTRANS_Motorbike'] = dataset_c['MTRANS'].apply(lambda x: MTRANS_mapping[x][3])\n",
        "dataset_c['MTRANS_Bike'] = dataset_c['MTRANS'].apply(lambda x: MTRANS_mapping[x][4])\n",
        "# elimino la colonna MTRANS\n",
        "dataset_c.drop('MTRANS', axis=1, inplace=True)\n",
        "\n",
        "# -------------------------------------------------------------------------------------------------------------------------NObeyesdad (one-hot encoding)\n",
        "NObeyesdad_mapping = {'Insufficient_Weight': [1, 0, 0, 0, 0, 0, 0],\n",
        "                   'Normal_Weight': [0, 1, 0, 0, 0, 0, 0],\n",
        "                   'Overweight_Level_I': [0, 0, 1, 0, 0, 0, 0],\n",
        "                   'Overweight_Level_II': [0, 0, 0, 1, 0, 0, 0],\n",
        "                   'Obesity_Type_I': [0, 0, 0, 0, 1, 0, 0],\n",
        "                   'Obesity_Type_II': [0, 0, 0, 0, 0, 1, 0],\n",
        "                   'Obesity_Type_III': [0, 0, 0, 0, 0, 0, 1]\n",
        "                      }\n",
        "# Apply mapping to NObeyesdad column\n",
        "dataset_c['NObeyesdad_Insufficient_Weight'] = dataset_c['NObeyesdad'].apply(lambda x: NObeyesdad_mapping[x][0])\n",
        "dataset_c['NObeyesdad_Normal_Weight'] = dataset_c['NObeyesdad'].apply(lambda x: NObeyesdad_mapping[x][1])\n",
        "dataset_c['NObeyesdad_Overweight_Level_I'] = dataset_c['NObeyesdad'].apply(lambda x: NObeyesdad_mapping[x][2])\n",
        "dataset_c['NObeyesdad_Overweight_Level_II'] = dataset_c['NObeyesdad'].apply(lambda x: NObeyesdad_mapping[x][3])\n",
        "dataset_c['NObeyesdad_Obesity_Type_I'] = dataset_c['NObeyesdad'].apply(lambda x: NObeyesdad_mapping[x][4])\n",
        "dataset_c['NObeyesdad_Obesity_Type_II'] = dataset_c['NObeyesdad'].apply(lambda x: NObeyesdad_mapping[x][5])\n",
        "dataset_c['NObeyesdad_Obesity_Type_III'] = dataset_c['NObeyesdad'].apply(lambda x: NObeyesdad_mapping[x][6])\n",
        "# elimino la colonna NObeyesdad\n",
        "dataset_c.drop('NObeyesdad', axis=1, inplace=True)"
      ]
    },
    {
      "cell_type": "markdown",
      "metadata": {
        "id": "sLUSJUgKrM9-"
      },
      "source": [
        "## Divisione del dataset in dataset_training e dataset_test"
      ]
    },
    {
      "cell_type": "code",
      "execution_count": null,
      "metadata": {
        "colab": {
          "background_save": true
        },
        "id": "EZZbkcTWrG7g"
      },
      "outputs": [],
      "source": [
        "dataset_c = dataset_c.sample(frac=1).reset_index(drop=True)   #rimescola casualmente le righe del dataset\n",
        "\n",
        "# splitting in training set e test set\n",
        "TRAIN_TEST_SPLIT_PERCENTAGE = 0.9\n",
        "dataset_training = dataset_c[:int(len(dataset_c) * TRAIN_TEST_SPLIT_PERCENTAGE)]\n",
        "dataset_test = dataset_c[int(len(dataset_c) * TRAIN_TEST_SPLIT_PERCENTAGE):]"
      ]
    },
    {
      "cell_type": "markdown",
      "metadata": {
        "id": "kkMBi4cArsFh"
      },
      "source": [
        "## Implementazione"
      ]
    },
    {
      "cell_type": "code",
      "execution_count": null,
      "metadata": {
        "colab": {
          "background_save": true
        },
        "id": "H7QoQ_rrsLyG"
      },
      "outputs": [],
      "source": [
        "# Variabile dipendente (obbiettivo)\n",
        "y_train = dataset_training['Weight']\n",
        "y_test = dataset_test['Weight']\n",
        "\n",
        "# Variabili indipendenti\n",
        "X_train = dataset_training.drop('Weight', axis=1)\n",
        "X_test = dataset_test.drop('Weight', axis=1)\n",
        "\n",
        "# Standardizzazione dei dati\n",
        "mean = X_train.mean()   # media (di ogni colonna in X_train)\n",
        "std = X_train.std()     # deviazione standard\n",
        "X_train = (X_train - mean) / std      # in questo modo ogni colonna ha media 0 e deviazione standard 1\n",
        "X_test = (X_test - mean) / std        # fa lo stesso su X_test usando media e deviazione standard calcolati su X_train"
      ]
    },
    {
      "cell_type": "code",
      "execution_count": null,
      "metadata": {
        "colab": {
          "background_save": true
        },
        "id": "vYItrSfsVgMk"
      },
      "outputs": [],
      "source": [
        "class NeuralNetwork:\n",
        "    def __init__(self, layers):\n",
        "        self.layers = layers\n",
        "        self.weights = []\n",
        "        self.biases = []\n",
        "\n",
        "        for i in range(len(layers) - 1):\n",
        "            self.weights.append(np.random.randn(layers[i], layers[i+1]))    # inizializza weights\n",
        "            self.biases.append(np.random.randn(1, layers[i+1]))      # inizializza biases\n",
        "\n",
        "\n",
        "    # funzione di attivazione\n",
        "    def relu(self, x):\n",
        "        return np.maximum(0, x)\n",
        "\n",
        "    def relu_derivative(self, x):\n",
        "        return np.where(x <= 0, 0, 1)\n",
        "\n",
        "\n",
        "    # funzione loss\n",
        "    def mse(self, y_true, y_pred):\n",
        "        return np.mean((y_true - y_pred) ** 2)\n",
        "\n",
        "    def mse_derivative(self, y_true, y_pred):\n",
        "        return 2 * (y_pred - y_true) / y_true.size\n",
        "\n",
        "\n",
        "    def forward(self, X):\n",
        "        self.a = [X]    # lista per memorizzare gli output di layer\n",
        "        self.z = []\n",
        "\n",
        "        for i in range(len(self.layers) - 1):\n",
        "            weighted_sum = np.dot(self.a[-1], self.weights[i]) + self.biases[i]   # somma pesata + bias\n",
        "            self.z.append(weighted_sum)\n",
        "\n",
        "            self.a.append(self.relu(self.z[-1]))    # applica la funzione di attivazione e lo aggiunge in self.a\n",
        "\n",
        "        return self.a[-1]\n",
        "\n",
        "\n",
        "    def backward(self, X, y, learning_rate):\n",
        "        m = X.shape[0]\n",
        "        self.dz = self.mse_derivative(y, self.a[-1])    # errore\n",
        "\n",
        "        self.dw = 1/m * np.dot(self.a[-2].T, self.dz)   # gradiente dei pesi\n",
        "        self.db = np.sum(self.dz, axis=0, keepdims=True) / m    # gradiente dei bias\n",
        "\n",
        "        # Clipping del gradiente\n",
        "        np.clip(self.dw, -1, 1, out=self.dw)\n",
        "        np.clip(self.db, -1, 1, out=self.db)\n",
        "\n",
        "        self.weights[-1] -= learning_rate * self.dw     # aggiornamento dei pesi\n",
        "        self.biases[-1] -= learning_rate * self.db      # aggiornamento dei bias\n",
        "\n",
        "        for i in range(len(self.layers) - 3, -1, -1):     # ciclo sui layer della rete\n",
        "            self.dz = np.dot(self.dz, self.weights[i+1].T) * self.relu_derivative(self.z[i])    # propagazione errore precedente\n",
        "\n",
        "            self.dw = 1/m * np.dot(self.a[i].T, self.dz)    # gradiente dei pesi\n",
        "            self.db = np.sum(self.dz, axis=0, keepdims=True) / m      # gradiente dei bias\n",
        "\n",
        "            # Clipping del gradiente\n",
        "            np.clip(self.dw, -1, 1, out=self.dw)\n",
        "            np.clip(self.db, -1, 1, out=self.db)\n",
        "\n",
        "            self.weights[i] -= learning_rate * self.dw      # aggiornamento dei pesi\n",
        "            self.biases[i] -= learning_rate * self.db       # aggiornamento dei bias\n",
        "\n",
        "\n",
        "    def train(self, X, y, learning_rate, epochs, minibatch, num_batches):\n",
        "        for i in range(epochs):\n",
        "            # rimescola casualmente le righe\n",
        "            indices = np.arange(X.shape[0])\n",
        "            np.random.shuffle(indices)\n",
        "            X = X[indices]\n",
        "            y = y[indices]\n",
        "\n",
        "\n",
        "            if minibatch == False:\n",
        "              pred = self.forward(X)    # forward propagation\n",
        "              #loss = self.mse(y, pred)\n",
        "              self.backward(X, y, learning_rate)    # backwards propagation\n",
        "\n",
        "\n",
        "            else:         # minibatch\n",
        "              batch_size = int(np.floor(X.shape[0] / num_batches))\n",
        "\n",
        "              for j in range(num_batches):\n",
        "                X_batch = X[j*batch_size:(j+1)*batch_size]\n",
        "                y_batch = y[j*batch_size:(j+1)*batch_size]\n",
        "\n",
        "                pred = self.forward(X_batch)    # forward propagation\n",
        "                #loss = self.mse(y_batch, pred)\n",
        "                self.backward(X_batch, y_batch, learning_rate)    # backwards propagation\n",
        "\n",
        "              if X.shape[0] % batch_size != 0:      # Se il numero di righe non è un multiplo di batch_size allora ci sarà un ultimo minibatch più piccolo\n",
        "                X_batch = X[num_batches*batch_size:]\n",
        "                y_batch = y[num_batches*batch_size:]\n",
        "\n",
        "                pred = self.forward(X_batch)    # forward propagation\n",
        "                loss = self.mse(y_batch, pred)\n",
        "                self.backward(X_batch, y_batch, learning_rate)    # backwards propagation\n",
        "\n",
        "\n",
        "\n",
        "            #if i % 1000 == 0:\n",
        "              #print(\"\\n------------------------ iterazione: \", i)       # <--- DEBUG\n",
        "              #print(\"\\tweights:\\n\", self.weights, \"\\n\\tbiases:\\n\", self.biases, \"\\n\")       # <--- DEBUG\n",
        "              #print(\"loss: \", loss)       # <--- DEBUG\n"
      ]
    },
    {
      "cell_type": "code",
      "execution_count": null,
      "metadata": {
        "colab": {
          "background_save": true
        },
        "id": "Uay48ymHdGXB",
        "outputId": "127a59e2-8adf-4168-bdbb-05a3c58bd256"
      },
      "outputs": [
        {
          "name": "stdout",
          "output_type": "stream",
          "text": [
            "struttura:  [26, 5, 5, 5, 1]\n",
            "Mean Absolute Error: 3.7589737881157204\n",
            "Mean Squared Error: 31.894859874786356\n",
            "Root Mean Squared Error: 5.647553441516632\n"
          ]
        }
      ],
      "source": [
        "X_train_values = X_train.values\n",
        "y_train_values = y_train.values.reshape(-1, 1)\n",
        "\n",
        "X_test_values = X_test.values\n",
        "y_test_values = y_test.values.reshape(-1, 1)\n",
        "\n",
        "# Creazione della rete neurale\n",
        "num_hidden_layers = 3\n",
        "num_neurons = 5\n",
        "layers = []\n",
        "layers.append(X_train_values.shape[1])\n",
        "for i in range(num_hidden_layers):\n",
        "  layers.append(num_neurons)\n",
        "layers.append(1)\n",
        "\n",
        "nn = NeuralNetwork(layers)\n",
        "print(\"struttura: \", nn.layers)\n",
        "\n",
        "# Addestramento della rete neurale\n",
        "nn.train(X_train_values, y_train_values, learning_rate=0.01, epochs=1000, minibatch=True, num_batches=9)\n",
        "\n",
        "# Test della rete neurale\n",
        "predictions = nn.forward(X_test_values)\n",
        "\n",
        "#print(\"\\n\\n\")\n",
        "# Calcolo metriche di errore\n",
        "mae = np.mean(np.abs(y_test_values - predictions))\n",
        "mse = np.mean((y_test_values - predictions)**2)\n",
        "rmse = np.sqrt(mse)\n",
        "\n",
        "print('Mean Absolute Error:', mae)\n",
        "print('Mean Squared Error:', mse)\n",
        "print('Root Mean Squared Error:', rmse)"
      ]
    },
    {
      "cell_type": "markdown",
      "metadata": {
        "id": "nrqNw6POLocM"
      },
      "source": [
        "## Hyperparameter tuning"
      ]
    },
    {
      "cell_type": "code",
      "execution_count": null,
      "metadata": {
        "colab": {
          "background_save": true
        },
        "id": "EDvKkz5GLq2t",
        "outputId": "f692b010-311e-486c-f90d-4cb25fd1bce3"
      },
      "outputs": [
        {
          "name": "stdout",
          "output_type": "stream",
          "text": [
            "numero di hidden layer:  1 \tnumero di neuroni per ogni hidden layer:  3 \tnumero di iterazioni:  100 \tlearning rate:  0.0001 \tnumero di batch:  7\n",
            "\terror rate medio:  0.7936632392552477 \n",
            "\n",
            "numero di hidden layer:  2 \tnumero di neuroni per ogni hidden layer:  4 \tnumero di iterazioni:  500 \tlearning rate:  0.001 \tnumero di batch:  8\n",
            "\terror rate medio:  0.1951687357402755 \n",
            "\n",
            "numero di hidden layer:  3 \tnumero di neuroni per ogni hidden layer:  5 \tnumero di iterazioni:  1000 \tlearning rate:  0.01 \tnumero di batch:  9\n",
            "\terror rate medio:  0.08376194829845683 \n",
            "\n",
            "numero di hidden layer:  4 \tnumero di neuroni per ogni hidden layer:  6 \tnumero di iterazioni:  5000 \tlearning rate:  0.1 \tnumero di batch:  10\n",
            "\terror rate medio:  0.7421475570005693 \n",
            "\n",
            "\n",
            "parametri migliori: numero hidden layer:  3 \tnumero neuroni per hidden layer:  5 \tnumero di iterazioni:  1000 \tlearning rate:  0.01 \tnumero di batch:  9\n",
            "\n",
            "\n",
            "struttura:  [26, 5, 5, 5, 1]\n",
            "\n",
            "\n",
            "Mean Absolute Error: 4.590604194904332\n",
            "Mean Squared Error: 41.44165820586531\n",
            "Root Mean Squared Error: 6.437519569357852\n"
          ]
        }
      ],
      "source": [
        "\n",
        "def cross_validation(data, num_hidden_layers, num_neurons, num_iter, learning_rate, num_batches):\n",
        "  error_rate = []\n",
        "  k = 9\n",
        "  size = int(np.floor(data.shape[0] / k))\n",
        "\n",
        "  for i in range(k):\n",
        "    #print(\"iterazione: \", i)\n",
        "    validation_set = data.iloc[size*i:size*(i+1)]\n",
        "    train_set = data.drop(validation_set.index)\n",
        "    validation_set = validation_set.reset_index(drop=True)\n",
        "    train_set = train_set.reset_index(drop=True)\n",
        "\n",
        "    X_tr = train_set.drop('Weight', axis=1)\n",
        "    y_tr = train_set['Weight']\n",
        "    X_te = validation_set.drop('Weight', axis=1)\n",
        "    y_te = validation_set['Weight']\n",
        "\n",
        "    # Standardizzazione dei dati\n",
        "    mean = X_tr.mean()\n",
        "    std = X_tr.std()\n",
        "    X_tr = (X_tr - mean) / std\n",
        "    X_te = (X_te - mean) / std\n",
        "\n",
        "    X_tr_values = X_tr.values\n",
        "    y_tr_values = y_tr.values.reshape(-1, 1)\n",
        "    X_te_values = X_te.values\n",
        "    y_te_values = y_te.values.reshape(-1, 1)\n",
        "\n",
        "    # esecuzione algoritmo\n",
        "    layers = []\n",
        "    layers.append(X_tr_values.shape[1])\n",
        "    for i in range(num_hidden_layers):\n",
        "      layers.append(num_neurons)\n",
        "    layers.append(1)\n",
        "\n",
        "    nn = NeuralNetwork(layers)\n",
        "\n",
        "    nn.train(X_tr_values, y_tr_values, learning_rate, num_iter, True, num_batches)\n",
        "\n",
        "    y_pred = nn.forward(X_te_values)\n",
        "\n",
        "    # errore\n",
        "    mse = np.mean((y_te_values - y_pred)**2)\n",
        "    e = np.sqrt(mse) / (y_te_values.max() - y_te_values.min())    # rmse normalizzato\n",
        "    if e > 1:\n",
        "      e = 1\n",
        "    error_rate.append(e)\n",
        "\n",
        "\n",
        "  if data.shape[0] % k != 0:\n",
        "    validation_set = data.iloc[size*k:]\n",
        "    train_set = data.drop(validation_set.index)\n",
        "    validation_set = validation_set.reset_index(drop=True)\n",
        "    train_set = train_set.reset_index(drop=True)\n",
        "\n",
        "    X_tr = train_set.drop('Weight', axis=1)\n",
        "    y_tr = train_set['Weight']\n",
        "    X_te = validation_set.drop('Weight', axis=1)\n",
        "    y_te = validation_set['Weight']\n",
        "\n",
        "    # Standardizzazione dei dati\n",
        "    mean = X_tr.mean()\n",
        "    std = X_tr.std()\n",
        "    X_tr = (X_tr - mean) / std\n",
        "    X_te = (X_te - mean) / std\n",
        "\n",
        "    X_tr_values = X_tr.values\n",
        "    y_tr_values = y_tr.values.reshape(-1, 1)\n",
        "    X_te_values = X_te.values\n",
        "    y_te_values = y_te.values.reshape(-1, 1)\n",
        "\n",
        "    layers = []\n",
        "    layers.append(X_tr_values.shape[1])\n",
        "    for i in range(num_hidden_layers):\n",
        "      layers.append(num_neurons)\n",
        "    layers.append(1)\n",
        "\n",
        "    nn = NeuralNetwork(layers)\n",
        "\n",
        "    nn.train(X_tr_values, y_tr_values, learning_rate, num_iter, True, num_batches)\n",
        "\n",
        "    y_pred = nn.forward(X_te_values)\n",
        "\n",
        "    mse = np.mean((y_te_values - y_pred)**2)\n",
        "    e = np.sqrt(mse) / (y_te_values.max() - y_te_values.min())    # rmse normalizzato\n",
        "    if e > 1:\n",
        "      e = 1\n",
        "    error_rate.append(e)\n",
        "\n",
        "\n",
        "  return np.mean(error_rate)\n",
        "\n",
        "\n",
        "\n",
        "\n",
        "error = []\n",
        "\n",
        "for i, j, h, r, k in zip(range(1, 5), range(3, 7), [100, 500, 1000, 5000], [0.0001, 0.001, 0.01, 0.1], range(7, 11)):    # ciclo sui valori degli iperparametri\n",
        "  print(\"numero di hidden layer: \", i, \"\\tnumero di neuroni per ogni hidden layer: \", j, \"\\tnumero di iterazioni: \", h, \"\\tlearning rate: \", r, \"\\tnumero di batch: \", k)\n",
        "  error.append([[i, j, h, r, k], cross_validation(dataset_training, num_hidden_layers=i, num_neurons=j, num_iter=h, learning_rate=r, num_batches=k)])\n",
        "  print(\"\\terror rate medio: \", error[-1][1], \"\\n\")\n",
        "\n",
        "\n",
        "best = min(error, key=lambda x: x[1])\n",
        "best_num_hidden_layer = best[0][0]\n",
        "best_num_neurons = best[0][1]\n",
        "best_num_iter = best[0][2]\n",
        "best_learning_rate = best[0][3]\n",
        "best_num_batches = best[0][4]\n",
        "print(\"\\nparametri migliori: numero hidden layer: \", best_num_hidden_layer, \"\\tnumero neuroni per hidden layer: \", best_num_neurons, \"\\tnumero di iterazioni: \", best_num_iter, \"\\tlearning rate: \", best_learning_rate, \"\\tnumero di batch: \", best_num_batches)\n",
        "\n",
        "\n",
        "X_train_values = X_train.values\n",
        "y_train_values = y_train.values.reshape(-1, 1)\n",
        "X_test_values = X_test.values\n",
        "y_test_values = y_test.values.reshape(-1, 1)\n",
        "\n",
        "# Creazione della rete neurale\n",
        "layers = []\n",
        "layers.append(X_train_values.shape[1])\n",
        "for i in range(best_num_hidden_layer):\n",
        "  layers.append(best_num_neurons)\n",
        "layers.append(1)\n",
        "\n",
        "nn = NeuralNetwork(layers)\n",
        "print(\"\\n\\nstruttura: \", nn.layers)\n",
        "\n",
        "# Addestramento della rete neurale\n",
        "nn.train(X_train_values, y_train_values, best_learning_rate, best_num_iter, True, best_num_batches)\n",
        "\n",
        "# Test della rete neurale\n",
        "y_pred = nn.forward(X_test_values)\n",
        "\n",
        "\n",
        "print(\"\\n\")\n",
        "# Calcolo metriche di errore\n",
        "mae = np.mean(np.abs(y_test_values - y_pred))\n",
        "mse = np.mean((y_test_values - y_pred)**2)\n",
        "rmse = np.sqrt(mse)\n",
        "\n",
        "print('Mean Absolute Error:', mae)\n",
        "print('Mean Squared Error:', mse)\n",
        "print('Root Mean Squared Error:', rmse)"
      ]
    },
    {
      "cell_type": "markdown",
      "metadata": {
        "id": "B9kuJCooT6Iq"
      },
      "source": [
        "**CONSIDERAZIONI:**\n",
        "\n",
        "---\n",
        "\n",
        "Gli iperparametri scelti per l'algoritmo di regressione con Neural Network sono:\n",
        "*   numero di hidden layer della rete neurale\n",
        "*   numero di neuroni per ciascun hidden layer\n",
        "*   numero di iterazioni: numero di volte che l'algoritmo viene eseguito sui dati di addestramento\n",
        "*   learning rate: step size, controlla la velocità con cui l'algoritmo apprende. Un learning rate troppo alto può causare oscillazioni o divergenze.\n",
        "*   numero di batch: avendo usato la tecnica del minibatch, questo iperparametro controlla il numero di sottoinsiemi in cui viene diviso il dataset_training, sui quali viene invocato l'algoritmo ad ogni iterazione. Controlla quindi anche il numero di sample di addestramento che l'algoritmo utilizza per ogni aggiornamento dei pesi.\n",
        "\n",
        "\n",
        "Output dell'hyperparameter tuning:\n",
        "\n",
        "```\n",
        "numero di hidden layer:  1 \tnumero di neuroni per ogni hidden layer:  3 \tnumero di iterazioni:  100 \tlearning rate:  0.0001 \tnumero di batch:  7\n",
        "\terror rate medio:  0.7487166730975121\n",
        "\n",
        "numero di hidden layer:  2 \tnumero di neuroni per ogni hidden layer:  4 \tnumero di iterazioni:  500 \tlearning rate:  0.001 \tnumero di batch:  8\n",
        "\terror rate medio:  0.18987725990692864\n",
        "\n",
        "numero di hidden layer:  3 \tnumero di neuroni per ogni hidden layer:  5 \tnumero di iterazioni:  1000 \tlearning rate:  0.01 \tnumero di batch:  9\n",
        "\terror rate medio:  0.050732558365088574\n",
        "\n",
        "numero di hidden layer:  4 \tnumero di neuroni per ogni hidden layer:  6 \tnumero di iterazioni:  5000 \tlearning rate:  0.1 \tnumero di batch:  10\n",
        "\terror rate medio:  0.733867531284818\n",
        "\n",
        "\n",
        "parametri migliori: numero hidden layer:  3 \tnumero neuroni per hidden layer:  5 \tnumero di iterazioni:  1000 \tlearning rate:  0.01 \tnumero di batch:  9\n",
        "\n",
        "\n",
        "struttura:  [26, 5, 5, 5, 1]\n",
        "\n",
        "\n",
        "Mean Absolute Error: 3.9389671962482753\n",
        "Mean Squared Error: 27.74061383403112\n",
        "Root Mean Squared Error: 5.266935905631577\n",
        "```\n",
        "\n",
        "\n",
        "Con l'hyperparameter tuning ho provato alcune combinazioni di valori diversi per il numero di hidden layer nella rete neurale, il numero di neuroni in ciascuna hidden layer, il numero di iterazioni dell'algoritmo, il valore del learning rate e per il numero di batch usati nel minibatch.\n",
        "\n",
        "Per ogni combinazione di valori degli iperparametri ho suddiviso il dataset_training prendendo un validation_set e un training_set. Ho allenato quindi il modello sul training_set e l'ho testato sul validation_set, e ripetuto il processo 9 volte su diversi training_set e validation_set, calcolando ogni volta l'error-rate.\n",
        "\n",
        "Ho poi calcolato l'error-rate medio ottenuto su tutti i test per ogni combinazione di valori degli iperparametri, e quindi alla fine ho potuto ricavare il migliore.\n",
        "\n",
        "Dall'analisi fatta si può concludere che la combinazione migliore di quelle provate per i valori degli iperparametri è quella con:\n",
        "*   numero di hidden layer = 3\n",
        "*   numero di neuroni per hidden layer = 5\n",
        "*   numero di iterazioni = 1000\n",
        "*   learning rate = 0.01\n",
        "*   numero di batch = 9\n",
        "\n",
        "per la quale si è trovato un error rate medio di 0.050732558365088574 .\n",
        "\n",
        "Ho quindi allenato il modello sul dataset_training completo e stampato le metriche di valutazione riportate.\n",
        "\n",
        "Per migliorare ulteriormente i risultati, si potrebbe effettuare una random search sull'insieme dei valori possibili di tutti gli iperparametri, ed effettuare il tuning su questi valori finché si vuole."
      ]
    },
    {
      "cell_type": "markdown",
      "metadata": {
        "id": "27hwKnUVq9Cx"
      },
      "source": [
        "\n",
        "\n",
        "# ------------------------------------------------------------------------------------------------------------------------------------------------------\n",
        "\n"
      ]
    },
    {
      "cell_type": "markdown",
      "metadata": {
        "id": "ng7JLCEdVdk5"
      },
      "source": [
        "# **Critical analysis**"
      ]
    },
    {
      "cell_type": "markdown",
      "metadata": {
        "id": "Ni8pD7zQVgt9"
      },
      "source": [
        "**Critical analysis:**\n",
        "\n",
        "---\n",
        "\n",
        "In questo homework sono stati implementati cinque diversi algoritmi di machine learning: Linear Regression, Decision Tree, Logistic Regression, K-Nearest Neighbors (KNN) e Neural Network.\n",
        "\n",
        "La Regressione Lineare è semplice da implementare e fornisce un modello facilmente interpretabile. Si è dimostrata efficiente e richiede meno potenza di calcolo rispetto ad altri algoritmi.\n",
        "Presuppone tuttavia una relazione lineare tra le variabili indipendenti e la variabile dipendente.\n",
        "\n",
        "Gli Alberi di Decisione sono facili da capire e interpretare. Non richiedono normalizzazione dei dati in quanto sono in grado di gestire sia dati categorici che numerici. Sono tuttavia sensibili ai dati di addestramento e soggetti a overfitting all'aumentare della complessità dell'albero (si potrebbe combattere questo problema e migliorare il modello implementando il decision tree pruning, eliminando i nodi non rilevanti).\n",
        "\n",
        "Con la Regressione Logistica abbiamo potuto risolvere un problema di classificazione usando funzioni lineari. Questo algoritmo per la classificazione si è dimostrato più stabile e migliore nella generalizzazione rispetto al Decision Tree.\n",
        "Per la Regressione Logistica si nota che all'aumentare del numero di iterazioni dell'algoritmo il modello migliora le proprie performance, a scapito del costo temporale di allenamento del modello.\n",
        "\n",
        "I modelli precedenti erano parametrici, quindi modelli che riassumono i dati con un insieme finito di parametri.\n",
        "\n",
        "Il K-Nearest Neighbor è invece un modello non parametrico, che non può essere caratterizzato da un insieme finito di parametri. Anche il KNN è semplice da capire e implementare. Richiede però una grande quantità di memoria per memorizzare tutti i dati di addestramento, e la fase di previsione può essere lenta quando il set di dati è grande.\n",
        "Con KNN ho riscontrato peggioramenti nella generalizzazione all'aumentare del numero di vicini considerati.\n",
        "\n",
        "Dei modelli con cui ho risolto problemi di classificazione, quello con cui ho riscontrato le prestazioni migliori è Logistic Regression, in particolare all'aumentare del numero di iterazioni.\n",
        "\n",
        "La Rete Neurale si è rivelata più difficile da interpretare e implementare rispetto ad altri algoritmi. Rispetto alla Regressione Lineare richiede più tempo per l'addestramento e più potenza di calcolo, soprattutto quando il numero di strati e neuroni aumenta, ma in alcuni casi ha mostrato performance migliori.\n",
        "\n",
        "Si potrebbero ottenere delle valutazioni più precise dei modelli implementati in questo homework esplorando un intervallo più ampio di valori per gli iperparametri. Nel complesso, i risultati delle performance di tutti i modelli implementati si sono rivelati sufficientemente accurati.\n",
        "\n",
        "Le metriche di valutazione che ho utilizzato per gli algoritmi di regressione sono:\n",
        "- Mean Absolute Error (MAE)\n",
        "- Mean Squared Error (MSE)\n",
        "- Root Mean Squared Error (RMSE)\n",
        "\n",
        "Le metriche di valutazione utilizzate per gli algoritmi di classificazione sono state invece le seguenti:\n",
        "- accuracy_score\n",
        "- precision_score\n",
        "- recall_score\n",
        "- f1_score\n",
        "- confusion_matrix"
      ]
    },
    {
      "cell_type": "markdown",
      "metadata": {
        "id": "Jm1vYlhGrAv_"
      },
      "source": [
        "\n",
        "\n",
        "# ------------------------------------------------------------------------------------------------------------------------------------------------------\n",
        "\n"
      ]
    },
    {
      "cell_type": "markdown",
      "metadata": {
        "id": "uvxPYqTMmIfo"
      },
      "source": [
        "# GRAFICI"
      ]
    },
    {
      "cell_type": "code",
      "execution_count": null,
      "metadata": {
        "colab": {
          "background_save": true
        },
        "id": "WLYMQwKYPizC"
      },
      "outputs": [],
      "source": [
        "dataset_c = dataset.copy()\n",
        "\n",
        "TRAIN_TEST_SPLIT_PERCENTAGE = 0.9\n",
        "dataset_training = dataset_c[:int(len(dataset_c) * TRAIN_TEST_SPLIT_PERCENTAGE)]\n",
        "dataset_test = dataset_c[int(len(dataset_c) * TRAIN_TEST_SPLIT_PERCENTAGE):]"
      ]
    },
    {
      "cell_type": "code",
      "execution_count": null,
      "metadata": {
        "colab": {
          "background_save": true
        },
        "id": "PRhINb_JM1I8"
      },
      "outputs": [],
      "source": [
        "import matplotlib.pyplot as plt\n",
        "import seaborn as sns\n",
        "import csv\n",
        "%matplotlib inline"
      ]
    },
    {
      "cell_type": "code",
      "execution_count": null,
      "metadata": {
        "colab": {
          "background_save": true
        },
        "id": "ilT31TNUM1I9",
        "outputId": "e430ddfe-42ea-44de-d8dc-5cdd0eceb823"
      },
      "outputs": [
        {
          "data": {
            "image/png": "[encoded data removed]",
            "text/plain": [
              "<Figure size 1000x600 with 1 Axes>"
            ]
          },
          "metadata": {},
          "output_type": "display_data"
        }
      ],
      "source": [
        "plt.figure(figsize=(10, 6))\n",
        "sns.histplot(data=dataset_training, x=\"Age\", kde=True, hue=\"Gender\")\n",
        "plt.title(\"Distribuzione dell\\\"età a seconda del genere\")\n",
        "plt.show()"
      ]
    },
    {
      "cell_type": "code",
      "execution_count": null,
      "metadata": {
        "colab": {
          "background_save": true
        },
        "id": "rZDM2DRPM1I9",
        "outputId": "83321c9c-e74a-4202-b416-b757fe3be518"
      },
      "outputs": [
        {
          "data": {
            "image/png": "[encoded data removed]",
            "text/plain": [
              "<Figure size 1500x600 with 1 Axes>"
            ]
          },
          "metadata": {},
          "output_type": "display_data"
        }
      ],
      "source": [
        "plt.figure(figsize=(15, 6))\n",
        "sns.barplot(data=dataset_training, x=\"NObeyesdad\", y=\"Weight\", hue=\"Gender\")\n",
        "plt.title(\"Livello di obesità divisa per peso e genere\")\n",
        "plt.show()"
      ]
    },
    {
      "cell_type": "code",
      "execution_count": null,
      "metadata": {
        "colab": {
          "background_save": true
        },
        "id": "PeM96ETFM1I-",
        "outputId": "bd120290-5f96-489f-d141-90457b56aea8"
      },
      "outputs": [
        {
          "data": {
            "image/png": "[encoded data removed]",
            "text/plain": [
              "<Figure size 1500x600 with 1 Axes>"
            ]
          },
          "metadata": {},
          "output_type": "display_data"
        }
      ],
      "source": [
        "plt.figure(figsize=(15, 6))\n",
        "sns.countplot(data=dataset_training, x=\"MTRANS\", hue=\"NObeyesdad\")\n",
        "plt.title(\"Livello di obesità a seconda del mezzo di trasporto\")\n",
        "plt.show()"
      ]
    },
    {
      "cell_type": "code",
      "execution_count": null,
      "metadata": {
        "colab": {
          "background_save": true
        },
        "id": "A4P9lKuKM1I-",
        "outputId": "3d5bd026-3930-4612-d03a-35d576780a97"
      },
      "outputs": [
        {
          "data": {
            "image/png": "[encoded data removed]",
            "text/plain": [
              "<Figure size 1500x600 with 1 Axes>"
            ]
          },
          "metadata": {},
          "output_type": "display_data"
        }
      ],
      "source": [
        "plt.figure(figsize=(15, 6))\n",
        "sns.countplot(data=dataset_training, x=\"SMOKE\", hue=\"NObeyesdad\")\n",
        "plt.title(\"Livello di obesità a seconda dello status di fumatore\")\n",
        "plt.show()"
      ]
    },
    {
      "cell_type": "code",
      "execution_count": null,
      "metadata": {
        "colab": {
          "background_save": true
        },
        "id": "SDAOdS7IM1I-",
        "outputId": "d028b659-d599-45ae-fc11-29522e566aa9"
      },
      "outputs": [
        {
          "data": {
            "image/png": "[encoded data removed]",
            "text/plain": [
              "<Figure size 1500x600 with 1 Axes>"
            ]
          },
          "metadata": {},
          "output_type": "display_data"
        }
      ],
      "source": [
        "plt.figure(figsize=(15, 6))\n",
        "sns.boxplot(data=dataset_training, x=\"NObeyesdad\", y=\"Age\", hue=\"Gender\")\n",
        "plt.title(\"Distribuzione dell'età a seconda del livello di obesità diviso per genere.\")\n",
        "plt.show()"
      ]
    }
  ],
  "metadata": {
    "colab": {
      "collapsed_sections": [
        "Em6OZui34wg-",
        "PN4MKJszM1I7",
        "DKCMyduq3NpU",
        "_gHhYcCA4lIi",
        "2hh1qDGM8ZkR",
        "RKXk8G0G1yFJ",
        "CazTvtJf28hh",
        "UDuLm1vglw7o",
        "StLiq_eG5vuD",
        "C8OVEbSkihOS",
        "vS_N9_MP2Bsv",
        "SQsR_njmHFca",
        "9y0gHsHSLUb2",
        "FL6IV50iLuyz",
        "3CQOMHQPL1q4",
        "m28DBeiIVCUC",
        "9KwiLgX6ULrd",
        "eRNlOZKgUcCi",
        "s34ThndNUcCn",
        "AcGAzH4B0lIv",
        "BE_nPwbuETkM",
        "hD29uJ7ppxZv",
        "MaLGRkXfp9Tg",
        "sLUSJUgKrM9-",
        "kkMBi4cArsFh",
        "nrqNw6POLocM",
        "uvxPYqTMmIfo"
      ],
      "provenance": []
    },
    "kaggle": {
      "accelerator": "none",
      "dataSources": [
        {
          "datasetId": 4030196,
          "sourceId": 7009925,
          "sourceType": "datasetVersion"
        }
      ],
      "dockerImageVersionId": 30646,
      "isGpuEnabled": false,
      "isInternetEnabled": true,
      "language": "python",
      "sourceType": "notebook"
    },
    "kernelspec": {
      "display_name": "Python 3",
      "language": "python",
      "name": "python3"
    },
    "language_info": {
      "codemirror_mode": {
        "name": "ipython",
        "version": 3
      },
      "file_extension": ".py",
      "mimetype": "text/x-python",
      "name": "python",
      "nbconvert_exporter": "python",
      "pygments_lexer": "ipython3",
      "version": "3.10.13"
    }
  },
  "nbformat": 4,
  "nbformat_minor": 0
}